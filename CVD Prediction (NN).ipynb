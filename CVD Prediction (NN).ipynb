{
  "nbformat": 4,
  "nbformat_minor": 0,
  "metadata": {
    "colab": {
      "provenance": [],
      "gpuType": "T4",
      "authorship_tag": "ABX9TyOJpWMTMBqMn9FNE7d9zAsS",
      "include_colab_link": true
    },
    "kernelspec": {
      "name": "python3",
      "display_name": "Python 3"
    },
    "language_info": {
      "name": "python"
    }
  },
  "cells": [
    {
      "cell_type": "markdown",
      "metadata": {
        "id": "view-in-github",
        "colab_type": "text"
      },
      "source": [
        "<a href=\"https://colab.research.google.com/github/Porinita-Hoque/CVD-Prediction/blob/main/CVD%20Prediction%20(NN).ipynb\" target=\"_parent\"><img src=\"https://colab.research.google.com/assets/colab-badge.svg\" alt=\"Open In Colab\"/></a>"
      ]
    },
    {
      "cell_type": "markdown",
      "source": [
        "## **Description**"
      ],
      "metadata": {
        "id": "uLzLXvwKF40M"
      }
    },
    {
      "cell_type": "markdown",
      "source": [
        "<b>CVDs Risk Prediction Using BRFSS Dataset 2021</b> <br> <hr>\n",
        "> The Behavioral Risk Factor Surveillance System (BRFSS) is the nation’s premier system of health-related telephone surveys that collect state data about U.S. residents regarding their health-related risk behaviors, chronic health conditions, and use of preventive services.\n",
        "\n",
        "\n",
        "\n"
      ],
      "metadata": {
        "id": "wuyXlLJTF9t7"
      }
    },
    {
      "cell_type": "markdown",
      "source": [
        "## **Code**"
      ],
      "metadata": {
        "id": "k-vCbzKPF0iC"
      }
    },
    {
      "cell_type": "markdown",
      "source": [
        "##### **Mount to Drive**"
      ],
      "metadata": {
        "id": "_GULC8p9Frzg"
      }
    },
    {
      "cell_type": "code",
      "source": [
        "from google.colab import drive"
      ],
      "metadata": {
        "id": "9sWPcj7NE8ED"
      },
      "execution_count": 1,
      "outputs": []
    },
    {
      "cell_type": "code",
      "source": [
        "drive.mount('/content/drive')"
      ],
      "metadata": {
        "colab": {
          "base_uri": "https://localhost:8080/"
        },
        "id": "JbufWBjiFNDZ",
        "outputId": "3c566334-7d68-407f-9075-0902b9729cef"
      },
      "execution_count": 2,
      "outputs": [
        {
          "output_type": "stream",
          "name": "stdout",
          "text": [
            "Drive already mounted at /content/drive; to attempt to forcibly remount, call drive.mount(\"/content/drive\", force_remount=True).\n"
          ]
        }
      ]
    },
    {
      "cell_type": "code",
      "source": [
        "csv_path = '/content/drive/MyDrive/Cardiovascular Diseases (CVD) Risk Prediction/CVD-BRFSS-2021.csv'"
      ],
      "metadata": {
        "id": "eiEjP71jFTfp"
      },
      "execution_count": 3,
      "outputs": []
    },
    {
      "cell_type": "markdown",
      "source": [
        "### **Work on DataFrame**"
      ],
      "metadata": {
        "id": "y9bDJpbjN3J9"
      }
    },
    {
      "cell_type": "code",
      "source": [
        "import pandas as pd"
      ],
      "metadata": {
        "id": "9x2r8I2YHUP_"
      },
      "execution_count": 4,
      "outputs": []
    },
    {
      "cell_type": "code",
      "source": [
        "df = pd.read_csv(csv_path)\n",
        "df.head()"
      ],
      "metadata": {
        "colab": {
          "base_uri": "https://localhost:8080/",
          "height": 0
        },
        "id": "b05D82mbG-Ld",
        "outputId": "deaef21d-f9b1-45c1-853c-98312681ddf1"
      },
      "execution_count": 5,
      "outputs": [
        {
          "output_type": "execute_result",
          "data": {
            "text/plain": [
              "  General_Health                  Checkup Exercise Heart_Disease Skin_Cancer  \\\n",
              "0           Poor  Within the past 2 years       No            No          No   \n",
              "1      Very Good     Within the past year       No           Yes          No   \n",
              "2      Very Good     Within the past year      Yes            No          No   \n",
              "3           Poor     Within the past year      Yes           Yes          No   \n",
              "4           Good     Within the past year       No            No          No   \n",
              "\n",
              "  Other_Cancer Depression Diabetes Arthritis     Sex Age_Category  \\\n",
              "0           No         No       No       Yes  Female        70-74   \n",
              "1           No         No      Yes        No  Female        70-74   \n",
              "2           No         No      Yes        No  Female        60-64   \n",
              "3           No         No      Yes        No    Male        75-79   \n",
              "4           No         No       No        No    Male          80+   \n",
              "\n",
              "   Height_(cm)  Weight_(kg)    BMI Smoking_History  Alcohol_Consumption  \\\n",
              "0        150.0        32.66  14.54             Yes                  0.0   \n",
              "1        165.0        77.11  28.29              No                  0.0   \n",
              "2        163.0        88.45  33.47              No                  4.0   \n",
              "3        180.0        93.44  28.73              No                  0.0   \n",
              "4        191.0        88.45  24.37             Yes                  0.0   \n",
              "\n",
              "   Fruit_Consumption  Green_Vegetables_Consumption  FriedPotato_Consumption  \n",
              "0               30.0                          16.0                     12.0  \n",
              "1               30.0                           0.0                      4.0  \n",
              "2               12.0                           3.0                     16.0  \n",
              "3               30.0                          30.0                      8.0  \n",
              "4                8.0                           4.0                      0.0  "
            ],
            "text/html": [
              "\n",
              "  <div id=\"df-4eee933a-ee8f-452e-ab98-563370176e0e\">\n",
              "    <div class=\"colab-df-container\">\n",
              "      <div>\n",
              "<style scoped>\n",
              "    .dataframe tbody tr th:only-of-type {\n",
              "        vertical-align: middle;\n",
              "    }\n",
              "\n",
              "    .dataframe tbody tr th {\n",
              "        vertical-align: top;\n",
              "    }\n",
              "\n",
              "    .dataframe thead th {\n",
              "        text-align: right;\n",
              "    }\n",
              "</style>\n",
              "<table border=\"1\" class=\"dataframe\">\n",
              "  <thead>\n",
              "    <tr style=\"text-align: right;\">\n",
              "      <th></th>\n",
              "      <th>General_Health</th>\n",
              "      <th>Checkup</th>\n",
              "      <th>Exercise</th>\n",
              "      <th>Heart_Disease</th>\n",
              "      <th>Skin_Cancer</th>\n",
              "      <th>Other_Cancer</th>\n",
              "      <th>Depression</th>\n",
              "      <th>Diabetes</th>\n",
              "      <th>Arthritis</th>\n",
              "      <th>Sex</th>\n",
              "      <th>Age_Category</th>\n",
              "      <th>Height_(cm)</th>\n",
              "      <th>Weight_(kg)</th>\n",
              "      <th>BMI</th>\n",
              "      <th>Smoking_History</th>\n",
              "      <th>Alcohol_Consumption</th>\n",
              "      <th>Fruit_Consumption</th>\n",
              "      <th>Green_Vegetables_Consumption</th>\n",
              "      <th>FriedPotato_Consumption</th>\n",
              "    </tr>\n",
              "  </thead>\n",
              "  <tbody>\n",
              "    <tr>\n",
              "      <th>0</th>\n",
              "      <td>Poor</td>\n",
              "      <td>Within the past 2 years</td>\n",
              "      <td>No</td>\n",
              "      <td>No</td>\n",
              "      <td>No</td>\n",
              "      <td>No</td>\n",
              "      <td>No</td>\n",
              "      <td>No</td>\n",
              "      <td>Yes</td>\n",
              "      <td>Female</td>\n",
              "      <td>70-74</td>\n",
              "      <td>150.0</td>\n",
              "      <td>32.66</td>\n",
              "      <td>14.54</td>\n",
              "      <td>Yes</td>\n",
              "      <td>0.0</td>\n",
              "      <td>30.0</td>\n",
              "      <td>16.0</td>\n",
              "      <td>12.0</td>\n",
              "    </tr>\n",
              "    <tr>\n",
              "      <th>1</th>\n",
              "      <td>Very Good</td>\n",
              "      <td>Within the past year</td>\n",
              "      <td>No</td>\n",
              "      <td>Yes</td>\n",
              "      <td>No</td>\n",
              "      <td>No</td>\n",
              "      <td>No</td>\n",
              "      <td>Yes</td>\n",
              "      <td>No</td>\n",
              "      <td>Female</td>\n",
              "      <td>70-74</td>\n",
              "      <td>165.0</td>\n",
              "      <td>77.11</td>\n",
              "      <td>28.29</td>\n",
              "      <td>No</td>\n",
              "      <td>0.0</td>\n",
              "      <td>30.0</td>\n",
              "      <td>0.0</td>\n",
              "      <td>4.0</td>\n",
              "    </tr>\n",
              "    <tr>\n",
              "      <th>2</th>\n",
              "      <td>Very Good</td>\n",
              "      <td>Within the past year</td>\n",
              "      <td>Yes</td>\n",
              "      <td>No</td>\n",
              "      <td>No</td>\n",
              "      <td>No</td>\n",
              "      <td>No</td>\n",
              "      <td>Yes</td>\n",
              "      <td>No</td>\n",
              "      <td>Female</td>\n",
              "      <td>60-64</td>\n",
              "      <td>163.0</td>\n",
              "      <td>88.45</td>\n",
              "      <td>33.47</td>\n",
              "      <td>No</td>\n",
              "      <td>4.0</td>\n",
              "      <td>12.0</td>\n",
              "      <td>3.0</td>\n",
              "      <td>16.0</td>\n",
              "    </tr>\n",
              "    <tr>\n",
              "      <th>3</th>\n",
              "      <td>Poor</td>\n",
              "      <td>Within the past year</td>\n",
              "      <td>Yes</td>\n",
              "      <td>Yes</td>\n",
              "      <td>No</td>\n",
              "      <td>No</td>\n",
              "      <td>No</td>\n",
              "      <td>Yes</td>\n",
              "      <td>No</td>\n",
              "      <td>Male</td>\n",
              "      <td>75-79</td>\n",
              "      <td>180.0</td>\n",
              "      <td>93.44</td>\n",
              "      <td>28.73</td>\n",
              "      <td>No</td>\n",
              "      <td>0.0</td>\n",
              "      <td>30.0</td>\n",
              "      <td>30.0</td>\n",
              "      <td>8.0</td>\n",
              "    </tr>\n",
              "    <tr>\n",
              "      <th>4</th>\n",
              "      <td>Good</td>\n",
              "      <td>Within the past year</td>\n",
              "      <td>No</td>\n",
              "      <td>No</td>\n",
              "      <td>No</td>\n",
              "      <td>No</td>\n",
              "      <td>No</td>\n",
              "      <td>No</td>\n",
              "      <td>No</td>\n",
              "      <td>Male</td>\n",
              "      <td>80+</td>\n",
              "      <td>191.0</td>\n",
              "      <td>88.45</td>\n",
              "      <td>24.37</td>\n",
              "      <td>Yes</td>\n",
              "      <td>0.0</td>\n",
              "      <td>8.0</td>\n",
              "      <td>4.0</td>\n",
              "      <td>0.0</td>\n",
              "    </tr>\n",
              "  </tbody>\n",
              "</table>\n",
              "</div>\n",
              "      <button class=\"colab-df-convert\" onclick=\"convertToInteractive('df-4eee933a-ee8f-452e-ab98-563370176e0e')\"\n",
              "              title=\"Convert this dataframe to an interactive table.\"\n",
              "              style=\"display:none;\">\n",
              "        \n",
              "  <svg xmlns=\"http://www.w3.org/2000/svg\" height=\"24px\"viewBox=\"0 0 24 24\"\n",
              "       width=\"24px\">\n",
              "    <path d=\"M0 0h24v24H0V0z\" fill=\"none\"/>\n",
              "    <path d=\"M18.56 5.44l.94 2.06.94-2.06 2.06-.94-2.06-.94-.94-2.06-.94 2.06-2.06.94zm-11 1L8.5 8.5l.94-2.06 2.06-.94-2.06-.94L8.5 2.5l-.94 2.06-2.06.94zm10 10l.94 2.06.94-2.06 2.06-.94-2.06-.94-.94-2.06-.94 2.06-2.06.94z\"/><path d=\"M17.41 7.96l-1.37-1.37c-.4-.4-.92-.59-1.43-.59-.52 0-1.04.2-1.43.59L10.3 9.45l-7.72 7.72c-.78.78-.78 2.05 0 2.83L4 21.41c.39.39.9.59 1.41.59.51 0 1.02-.2 1.41-.59l7.78-7.78 2.81-2.81c.8-.78.8-2.07 0-2.86zM5.41 20L4 18.59l7.72-7.72 1.47 1.35L5.41 20z\"/>\n",
              "  </svg>\n",
              "      </button>\n",
              "      \n",
              "  <style>\n",
              "    .colab-df-container {\n",
              "      display:flex;\n",
              "      flex-wrap:wrap;\n",
              "      gap: 12px;\n",
              "    }\n",
              "\n",
              "    .colab-df-convert {\n",
              "      background-color: #E8F0FE;\n",
              "      border: none;\n",
              "      border-radius: 50%;\n",
              "      cursor: pointer;\n",
              "      display: none;\n",
              "      fill: #1967D2;\n",
              "      height: 32px;\n",
              "      padding: 0 0 0 0;\n",
              "      width: 32px;\n",
              "    }\n",
              "\n",
              "    .colab-df-convert:hover {\n",
              "      background-color: #E2EBFA;\n",
              "      box-shadow: 0px 1px 2px rgba(60, 64, 67, 0.3), 0px 1px 3px 1px rgba(60, 64, 67, 0.15);\n",
              "      fill: #174EA6;\n",
              "    }\n",
              "\n",
              "    [theme=dark] .colab-df-convert {\n",
              "      background-color: #3B4455;\n",
              "      fill: #D2E3FC;\n",
              "    }\n",
              "\n",
              "    [theme=dark] .colab-df-convert:hover {\n",
              "      background-color: #434B5C;\n",
              "      box-shadow: 0px 1px 3px 1px rgba(0, 0, 0, 0.15);\n",
              "      filter: drop-shadow(0px 1px 2px rgba(0, 0, 0, 0.3));\n",
              "      fill: #FFFFFF;\n",
              "    }\n",
              "  </style>\n",
              "\n",
              "      <script>\n",
              "        const buttonEl =\n",
              "          document.querySelector('#df-4eee933a-ee8f-452e-ab98-563370176e0e button.colab-df-convert');\n",
              "        buttonEl.style.display =\n",
              "          google.colab.kernel.accessAllowed ? 'block' : 'none';\n",
              "\n",
              "        async function convertToInteractive(key) {\n",
              "          const element = document.querySelector('#df-4eee933a-ee8f-452e-ab98-563370176e0e');\n",
              "          const dataTable =\n",
              "            await google.colab.kernel.invokeFunction('convertToInteractive',\n",
              "                                                     [key], {});\n",
              "          if (!dataTable) return;\n",
              "\n",
              "          const docLinkHtml = 'Like what you see? Visit the ' +\n",
              "            '<a target=\"_blank\" href=https://colab.research.google.com/notebooks/data_table.ipynb>data table notebook</a>'\n",
              "            + ' to learn more about interactive tables.';\n",
              "          element.innerHTML = '';\n",
              "          dataTable['output_type'] = 'display_data';\n",
              "          await google.colab.output.renderOutput(dataTable, element);\n",
              "          const docLink = document.createElement('div');\n",
              "          docLink.innerHTML = docLinkHtml;\n",
              "          element.appendChild(docLink);\n",
              "        }\n",
              "      </script>\n",
              "    </div>\n",
              "  </div>\n",
              "  "
            ]
          },
          "metadata": {},
          "execution_count": 5
        }
      ]
    },
    {
      "cell_type": "code",
      "source": [
        "df.info()"
      ],
      "metadata": {
        "colab": {
          "base_uri": "https://localhost:8080/"
        },
        "id": "eYIcFF37HRk_",
        "outputId": "e65b6c64-96a5-4eb8-c71a-4db35558bd03"
      },
      "execution_count": 6,
      "outputs": [
        {
          "output_type": "stream",
          "name": "stdout",
          "text": [
            "<class 'pandas.core.frame.DataFrame'>\n",
            "RangeIndex: 308854 entries, 0 to 308853\n",
            "Data columns (total 19 columns):\n",
            " #   Column                        Non-Null Count   Dtype  \n",
            "---  ------                        --------------   -----  \n",
            " 0   General_Health                308854 non-null  object \n",
            " 1   Checkup                       308854 non-null  object \n",
            " 2   Exercise                      308854 non-null  object \n",
            " 3   Heart_Disease                 308854 non-null  object \n",
            " 4   Skin_Cancer                   308854 non-null  object \n",
            " 5   Other_Cancer                  308854 non-null  object \n",
            " 6   Depression                    308854 non-null  object \n",
            " 7   Diabetes                      308854 non-null  object \n",
            " 8   Arthritis                     308854 non-null  object \n",
            " 9   Sex                           308854 non-null  object \n",
            " 10  Age_Category                  308854 non-null  object \n",
            " 11  Height_(cm)                   308854 non-null  float64\n",
            " 12  Weight_(kg)                   308854 non-null  float64\n",
            " 13  BMI                           308854 non-null  float64\n",
            " 14  Smoking_History               308854 non-null  object \n",
            " 15  Alcohol_Consumption           308854 non-null  float64\n",
            " 16  Fruit_Consumption             308854 non-null  float64\n",
            " 17  Green_Vegetables_Consumption  308854 non-null  float64\n",
            " 18  FriedPotato_Consumption       308854 non-null  float64\n",
            "dtypes: float64(7), object(12)\n",
            "memory usage: 44.8+ MB\n"
          ]
        }
      ]
    },
    {
      "cell_type": "code",
      "source": [
        "df.drop_duplicates()"
      ],
      "metadata": {
        "colab": {
          "base_uri": "https://localhost:8080/",
          "height": 0
        },
        "id": "NHAa7lr1Fz1f",
        "outputId": "65d64f5e-eee5-414f-d369-d585224a97f2"
      },
      "execution_count": 7,
      "outputs": [
        {
          "output_type": "execute_result",
          "data": {
            "text/plain": [
              "       General_Health                  Checkup Exercise Heart_Disease  \\\n",
              "0                Poor  Within the past 2 years       No            No   \n",
              "1           Very Good     Within the past year       No           Yes   \n",
              "2           Very Good     Within the past year      Yes            No   \n",
              "3                Poor     Within the past year      Yes           Yes   \n",
              "4                Good     Within the past year       No            No   \n",
              "...               ...                      ...      ...           ...   \n",
              "308849      Very Good     Within the past year      Yes            No   \n",
              "308850           Fair  Within the past 5 years      Yes            No   \n",
              "308851      Very Good      5 or more years ago      Yes            No   \n",
              "308852      Very Good     Within the past year      Yes            No   \n",
              "308853      Excellent     Within the past year      Yes            No   \n",
              "\n",
              "       Skin_Cancer Other_Cancer Depression  \\\n",
              "0               No           No         No   \n",
              "1               No           No         No   \n",
              "2               No           No         No   \n",
              "3               No           No         No   \n",
              "4               No           No         No   \n",
              "...            ...          ...        ...   \n",
              "308849          No           No         No   \n",
              "308850          No           No         No   \n",
              "308851          No           No        Yes   \n",
              "308852          No           No         No   \n",
              "308853          No           No         No   \n",
              "\n",
              "                                          Diabetes Arthritis     Sex  \\\n",
              "0                                               No       Yes  Female   \n",
              "1                                              Yes        No  Female   \n",
              "2                                              Yes        No  Female   \n",
              "3                                              Yes        No    Male   \n",
              "4                                               No        No    Male   \n",
              "...                                            ...       ...     ...   \n",
              "308849                                          No        No    Male   \n",
              "308850                                         Yes        No    Male   \n",
              "308851  Yes, but female told only during pregnancy        No  Female   \n",
              "308852                                          No        No    Male   \n",
              "308853                                          No        No  Female   \n",
              "\n",
              "       Age_Category  Height_(cm)  Weight_(kg)    BMI Smoking_History  \\\n",
              "0             70-74        150.0        32.66  14.54             Yes   \n",
              "1             70-74        165.0        77.11  28.29              No   \n",
              "2             60-64        163.0        88.45  33.47              No   \n",
              "3             75-79        180.0        93.44  28.73              No   \n",
              "4               80+        191.0        88.45  24.37             Yes   \n",
              "...             ...          ...          ...    ...             ...   \n",
              "308849        25-29        168.0        81.65  29.05              No   \n",
              "308850        65-69        180.0        69.85  21.48              No   \n",
              "308851        30-34        157.0        61.23  24.69             Yes   \n",
              "308852        65-69        183.0        79.38  23.73              No   \n",
              "308853        45-49        160.0        81.19  31.71              No   \n",
              "\n",
              "        Alcohol_Consumption  Fruit_Consumption  Green_Vegetables_Consumption  \\\n",
              "0                       0.0               30.0                          16.0   \n",
              "1                       0.0               30.0                           0.0   \n",
              "2                       4.0               12.0                           3.0   \n",
              "3                       0.0               30.0                          30.0   \n",
              "4                       0.0                8.0                           4.0   \n",
              "...                     ...                ...                           ...   \n",
              "308849                  4.0               30.0                           8.0   \n",
              "308850                  8.0               15.0                          60.0   \n",
              "308851                  4.0               40.0                           8.0   \n",
              "308852                  3.0               30.0                          12.0   \n",
              "308853                  1.0                5.0                          12.0   \n",
              "\n",
              "        FriedPotato_Consumption  \n",
              "0                          12.0  \n",
              "1                           4.0  \n",
              "2                          16.0  \n",
              "3                           8.0  \n",
              "4                           0.0  \n",
              "...                         ...  \n",
              "308849                      0.0  \n",
              "308850                      4.0  \n",
              "308851                      4.0  \n",
              "308852                      0.0  \n",
              "308853                      1.0  \n",
              "\n",
              "[308774 rows x 19 columns]"
            ],
            "text/html": [
              "\n",
              "  <div id=\"df-ff854c4a-fbeb-4eee-9c94-ca10188fa6b2\">\n",
              "    <div class=\"colab-df-container\">\n",
              "      <div>\n",
              "<style scoped>\n",
              "    .dataframe tbody tr th:only-of-type {\n",
              "        vertical-align: middle;\n",
              "    }\n",
              "\n",
              "    .dataframe tbody tr th {\n",
              "        vertical-align: top;\n",
              "    }\n",
              "\n",
              "    .dataframe thead th {\n",
              "        text-align: right;\n",
              "    }\n",
              "</style>\n",
              "<table border=\"1\" class=\"dataframe\">\n",
              "  <thead>\n",
              "    <tr style=\"text-align: right;\">\n",
              "      <th></th>\n",
              "      <th>General_Health</th>\n",
              "      <th>Checkup</th>\n",
              "      <th>Exercise</th>\n",
              "      <th>Heart_Disease</th>\n",
              "      <th>Skin_Cancer</th>\n",
              "      <th>Other_Cancer</th>\n",
              "      <th>Depression</th>\n",
              "      <th>Diabetes</th>\n",
              "      <th>Arthritis</th>\n",
              "      <th>Sex</th>\n",
              "      <th>Age_Category</th>\n",
              "      <th>Height_(cm)</th>\n",
              "      <th>Weight_(kg)</th>\n",
              "      <th>BMI</th>\n",
              "      <th>Smoking_History</th>\n",
              "      <th>Alcohol_Consumption</th>\n",
              "      <th>Fruit_Consumption</th>\n",
              "      <th>Green_Vegetables_Consumption</th>\n",
              "      <th>FriedPotato_Consumption</th>\n",
              "    </tr>\n",
              "  </thead>\n",
              "  <tbody>\n",
              "    <tr>\n",
              "      <th>0</th>\n",
              "      <td>Poor</td>\n",
              "      <td>Within the past 2 years</td>\n",
              "      <td>No</td>\n",
              "      <td>No</td>\n",
              "      <td>No</td>\n",
              "      <td>No</td>\n",
              "      <td>No</td>\n",
              "      <td>No</td>\n",
              "      <td>Yes</td>\n",
              "      <td>Female</td>\n",
              "      <td>70-74</td>\n",
              "      <td>150.0</td>\n",
              "      <td>32.66</td>\n",
              "      <td>14.54</td>\n",
              "      <td>Yes</td>\n",
              "      <td>0.0</td>\n",
              "      <td>30.0</td>\n",
              "      <td>16.0</td>\n",
              "      <td>12.0</td>\n",
              "    </tr>\n",
              "    <tr>\n",
              "      <th>1</th>\n",
              "      <td>Very Good</td>\n",
              "      <td>Within the past year</td>\n",
              "      <td>No</td>\n",
              "      <td>Yes</td>\n",
              "      <td>No</td>\n",
              "      <td>No</td>\n",
              "      <td>No</td>\n",
              "      <td>Yes</td>\n",
              "      <td>No</td>\n",
              "      <td>Female</td>\n",
              "      <td>70-74</td>\n",
              "      <td>165.0</td>\n",
              "      <td>77.11</td>\n",
              "      <td>28.29</td>\n",
              "      <td>No</td>\n",
              "      <td>0.0</td>\n",
              "      <td>30.0</td>\n",
              "      <td>0.0</td>\n",
              "      <td>4.0</td>\n",
              "    </tr>\n",
              "    <tr>\n",
              "      <th>2</th>\n",
              "      <td>Very Good</td>\n",
              "      <td>Within the past year</td>\n",
              "      <td>Yes</td>\n",
              "      <td>No</td>\n",
              "      <td>No</td>\n",
              "      <td>No</td>\n",
              "      <td>No</td>\n",
              "      <td>Yes</td>\n",
              "      <td>No</td>\n",
              "      <td>Female</td>\n",
              "      <td>60-64</td>\n",
              "      <td>163.0</td>\n",
              "      <td>88.45</td>\n",
              "      <td>33.47</td>\n",
              "      <td>No</td>\n",
              "      <td>4.0</td>\n",
              "      <td>12.0</td>\n",
              "      <td>3.0</td>\n",
              "      <td>16.0</td>\n",
              "    </tr>\n",
              "    <tr>\n",
              "      <th>3</th>\n",
              "      <td>Poor</td>\n",
              "      <td>Within the past year</td>\n",
              "      <td>Yes</td>\n",
              "      <td>Yes</td>\n",
              "      <td>No</td>\n",
              "      <td>No</td>\n",
              "      <td>No</td>\n",
              "      <td>Yes</td>\n",
              "      <td>No</td>\n",
              "      <td>Male</td>\n",
              "      <td>75-79</td>\n",
              "      <td>180.0</td>\n",
              "      <td>93.44</td>\n",
              "      <td>28.73</td>\n",
              "      <td>No</td>\n",
              "      <td>0.0</td>\n",
              "      <td>30.0</td>\n",
              "      <td>30.0</td>\n",
              "      <td>8.0</td>\n",
              "    </tr>\n",
              "    <tr>\n",
              "      <th>4</th>\n",
              "      <td>Good</td>\n",
              "      <td>Within the past year</td>\n",
              "      <td>No</td>\n",
              "      <td>No</td>\n",
              "      <td>No</td>\n",
              "      <td>No</td>\n",
              "      <td>No</td>\n",
              "      <td>No</td>\n",
              "      <td>No</td>\n",
              "      <td>Male</td>\n",
              "      <td>80+</td>\n",
              "      <td>191.0</td>\n",
              "      <td>88.45</td>\n",
              "      <td>24.37</td>\n",
              "      <td>Yes</td>\n",
              "      <td>0.0</td>\n",
              "      <td>8.0</td>\n",
              "      <td>4.0</td>\n",
              "      <td>0.0</td>\n",
              "    </tr>\n",
              "    <tr>\n",
              "      <th>...</th>\n",
              "      <td>...</td>\n",
              "      <td>...</td>\n",
              "      <td>...</td>\n",
              "      <td>...</td>\n",
              "      <td>...</td>\n",
              "      <td>...</td>\n",
              "      <td>...</td>\n",
              "      <td>...</td>\n",
              "      <td>...</td>\n",
              "      <td>...</td>\n",
              "      <td>...</td>\n",
              "      <td>...</td>\n",
              "      <td>...</td>\n",
              "      <td>...</td>\n",
              "      <td>...</td>\n",
              "      <td>...</td>\n",
              "      <td>...</td>\n",
              "      <td>...</td>\n",
              "      <td>...</td>\n",
              "    </tr>\n",
              "    <tr>\n",
              "      <th>308849</th>\n",
              "      <td>Very Good</td>\n",
              "      <td>Within the past year</td>\n",
              "      <td>Yes</td>\n",
              "      <td>No</td>\n",
              "      <td>No</td>\n",
              "      <td>No</td>\n",
              "      <td>No</td>\n",
              "      <td>No</td>\n",
              "      <td>No</td>\n",
              "      <td>Male</td>\n",
              "      <td>25-29</td>\n",
              "      <td>168.0</td>\n",
              "      <td>81.65</td>\n",
              "      <td>29.05</td>\n",
              "      <td>No</td>\n",
              "      <td>4.0</td>\n",
              "      <td>30.0</td>\n",
              "      <td>8.0</td>\n",
              "      <td>0.0</td>\n",
              "    </tr>\n",
              "    <tr>\n",
              "      <th>308850</th>\n",
              "      <td>Fair</td>\n",
              "      <td>Within the past 5 years</td>\n",
              "      <td>Yes</td>\n",
              "      <td>No</td>\n",
              "      <td>No</td>\n",
              "      <td>No</td>\n",
              "      <td>No</td>\n",
              "      <td>Yes</td>\n",
              "      <td>No</td>\n",
              "      <td>Male</td>\n",
              "      <td>65-69</td>\n",
              "      <td>180.0</td>\n",
              "      <td>69.85</td>\n",
              "      <td>21.48</td>\n",
              "      <td>No</td>\n",
              "      <td>8.0</td>\n",
              "      <td>15.0</td>\n",
              "      <td>60.0</td>\n",
              "      <td>4.0</td>\n",
              "    </tr>\n",
              "    <tr>\n",
              "      <th>308851</th>\n",
              "      <td>Very Good</td>\n",
              "      <td>5 or more years ago</td>\n",
              "      <td>Yes</td>\n",
              "      <td>No</td>\n",
              "      <td>No</td>\n",
              "      <td>No</td>\n",
              "      <td>Yes</td>\n",
              "      <td>Yes, but female told only during pregnancy</td>\n",
              "      <td>No</td>\n",
              "      <td>Female</td>\n",
              "      <td>30-34</td>\n",
              "      <td>157.0</td>\n",
              "      <td>61.23</td>\n",
              "      <td>24.69</td>\n",
              "      <td>Yes</td>\n",
              "      <td>4.0</td>\n",
              "      <td>40.0</td>\n",
              "      <td>8.0</td>\n",
              "      <td>4.0</td>\n",
              "    </tr>\n",
              "    <tr>\n",
              "      <th>308852</th>\n",
              "      <td>Very Good</td>\n",
              "      <td>Within the past year</td>\n",
              "      <td>Yes</td>\n",
              "      <td>No</td>\n",
              "      <td>No</td>\n",
              "      <td>No</td>\n",
              "      <td>No</td>\n",
              "      <td>No</td>\n",
              "      <td>No</td>\n",
              "      <td>Male</td>\n",
              "      <td>65-69</td>\n",
              "      <td>183.0</td>\n",
              "      <td>79.38</td>\n",
              "      <td>23.73</td>\n",
              "      <td>No</td>\n",
              "      <td>3.0</td>\n",
              "      <td>30.0</td>\n",
              "      <td>12.0</td>\n",
              "      <td>0.0</td>\n",
              "    </tr>\n",
              "    <tr>\n",
              "      <th>308853</th>\n",
              "      <td>Excellent</td>\n",
              "      <td>Within the past year</td>\n",
              "      <td>Yes</td>\n",
              "      <td>No</td>\n",
              "      <td>No</td>\n",
              "      <td>No</td>\n",
              "      <td>No</td>\n",
              "      <td>No</td>\n",
              "      <td>No</td>\n",
              "      <td>Female</td>\n",
              "      <td>45-49</td>\n",
              "      <td>160.0</td>\n",
              "      <td>81.19</td>\n",
              "      <td>31.71</td>\n",
              "      <td>No</td>\n",
              "      <td>1.0</td>\n",
              "      <td>5.0</td>\n",
              "      <td>12.0</td>\n",
              "      <td>1.0</td>\n",
              "    </tr>\n",
              "  </tbody>\n",
              "</table>\n",
              "<p>308774 rows × 19 columns</p>\n",
              "</div>\n",
              "      <button class=\"colab-df-convert\" onclick=\"convertToInteractive('df-ff854c4a-fbeb-4eee-9c94-ca10188fa6b2')\"\n",
              "              title=\"Convert this dataframe to an interactive table.\"\n",
              "              style=\"display:none;\">\n",
              "        \n",
              "  <svg xmlns=\"http://www.w3.org/2000/svg\" height=\"24px\"viewBox=\"0 0 24 24\"\n",
              "       width=\"24px\">\n",
              "    <path d=\"M0 0h24v24H0V0z\" fill=\"none\"/>\n",
              "    <path d=\"M18.56 5.44l.94 2.06.94-2.06 2.06-.94-2.06-.94-.94-2.06-.94 2.06-2.06.94zm-11 1L8.5 8.5l.94-2.06 2.06-.94-2.06-.94L8.5 2.5l-.94 2.06-2.06.94zm10 10l.94 2.06.94-2.06 2.06-.94-2.06-.94-.94-2.06-.94 2.06-2.06.94z\"/><path d=\"M17.41 7.96l-1.37-1.37c-.4-.4-.92-.59-1.43-.59-.52 0-1.04.2-1.43.59L10.3 9.45l-7.72 7.72c-.78.78-.78 2.05 0 2.83L4 21.41c.39.39.9.59 1.41.59.51 0 1.02-.2 1.41-.59l7.78-7.78 2.81-2.81c.8-.78.8-2.07 0-2.86zM5.41 20L4 18.59l7.72-7.72 1.47 1.35L5.41 20z\"/>\n",
              "  </svg>\n",
              "      </button>\n",
              "      \n",
              "  <style>\n",
              "    .colab-df-container {\n",
              "      display:flex;\n",
              "      flex-wrap:wrap;\n",
              "      gap: 12px;\n",
              "    }\n",
              "\n",
              "    .colab-df-convert {\n",
              "      background-color: #E8F0FE;\n",
              "      border: none;\n",
              "      border-radius: 50%;\n",
              "      cursor: pointer;\n",
              "      display: none;\n",
              "      fill: #1967D2;\n",
              "      height: 32px;\n",
              "      padding: 0 0 0 0;\n",
              "      width: 32px;\n",
              "    }\n",
              "\n",
              "    .colab-df-convert:hover {\n",
              "      background-color: #E2EBFA;\n",
              "      box-shadow: 0px 1px 2px rgba(60, 64, 67, 0.3), 0px 1px 3px 1px rgba(60, 64, 67, 0.15);\n",
              "      fill: #174EA6;\n",
              "    }\n",
              "\n",
              "    [theme=dark] .colab-df-convert {\n",
              "      background-color: #3B4455;\n",
              "      fill: #D2E3FC;\n",
              "    }\n",
              "\n",
              "    [theme=dark] .colab-df-convert:hover {\n",
              "      background-color: #434B5C;\n",
              "      box-shadow: 0px 1px 3px 1px rgba(0, 0, 0, 0.15);\n",
              "      filter: drop-shadow(0px 1px 2px rgba(0, 0, 0, 0.3));\n",
              "      fill: #FFFFFF;\n",
              "    }\n",
              "  </style>\n",
              "\n",
              "      <script>\n",
              "        const buttonEl =\n",
              "          document.querySelector('#df-ff854c4a-fbeb-4eee-9c94-ca10188fa6b2 button.colab-df-convert');\n",
              "        buttonEl.style.display =\n",
              "          google.colab.kernel.accessAllowed ? 'block' : 'none';\n",
              "\n",
              "        async function convertToInteractive(key) {\n",
              "          const element = document.querySelector('#df-ff854c4a-fbeb-4eee-9c94-ca10188fa6b2');\n",
              "          const dataTable =\n",
              "            await google.colab.kernel.invokeFunction('convertToInteractive',\n",
              "                                                     [key], {});\n",
              "          if (!dataTable) return;\n",
              "\n",
              "          const docLinkHtml = 'Like what you see? Visit the ' +\n",
              "            '<a target=\"_blank\" href=https://colab.research.google.com/notebooks/data_table.ipynb>data table notebook</a>'\n",
              "            + ' to learn more about interactive tables.';\n",
              "          element.innerHTML = '';\n",
              "          dataTable['output_type'] = 'display_data';\n",
              "          await google.colab.output.renderOutput(dataTable, element);\n",
              "          const docLink = document.createElement('div');\n",
              "          docLink.innerHTML = docLinkHtml;\n",
              "          element.appendChild(docLink);\n",
              "        }\n",
              "      </script>\n",
              "    </div>\n",
              "  </div>\n",
              "  "
            ]
          },
          "metadata": {},
          "execution_count": 7
        }
      ]
    },
    {
      "cell_type": "code",
      "source": [
        "df.isnull().sum()"
      ],
      "metadata": {
        "colab": {
          "base_uri": "https://localhost:8080/"
        },
        "id": "nm0kE-l7HLpj",
        "outputId": "e93630af-181e-41bf-fb44-8c72b284c3c2"
      },
      "execution_count": 8,
      "outputs": [
        {
          "output_type": "execute_result",
          "data": {
            "text/plain": [
              "General_Health                  0\n",
              "Checkup                         0\n",
              "Exercise                        0\n",
              "Heart_Disease                   0\n",
              "Skin_Cancer                     0\n",
              "Other_Cancer                    0\n",
              "Depression                      0\n",
              "Diabetes                        0\n",
              "Arthritis                       0\n",
              "Sex                             0\n",
              "Age_Category                    0\n",
              "Height_(cm)                     0\n",
              "Weight_(kg)                     0\n",
              "BMI                             0\n",
              "Smoking_History                 0\n",
              "Alcohol_Consumption             0\n",
              "Fruit_Consumption               0\n",
              "Green_Vegetables_Consumption    0\n",
              "FriedPotato_Consumption         0\n",
              "dtype: int64"
            ]
          },
          "metadata": {},
          "execution_count": 8
        }
      ]
    },
    {
      "cell_type": "code",
      "source": [
        "for i in df.columns:\n",
        "  count = len(df[i].unique())\n",
        "  print(f\"{i} : {count}\")"
      ],
      "metadata": {
        "colab": {
          "base_uri": "https://localhost:8080/"
        },
        "id": "uy81C9NQHtWE",
        "outputId": "f032481e-2b2c-4475-84c3-f7a4e7cb14e5"
      },
      "execution_count": 9,
      "outputs": [
        {
          "output_type": "stream",
          "name": "stdout",
          "text": [
            "General_Health : 5\n",
            "Checkup : 5\n",
            "Exercise : 2\n",
            "Heart_Disease : 2\n",
            "Skin_Cancer : 2\n",
            "Other_Cancer : 2\n",
            "Depression : 2\n",
            "Diabetes : 4\n",
            "Arthritis : 2\n",
            "Sex : 2\n",
            "Age_Category : 13\n",
            "Height_(cm) : 99\n",
            "Weight_(kg) : 525\n",
            "BMI : 3654\n",
            "Smoking_History : 2\n",
            "Alcohol_Consumption : 31\n",
            "Fruit_Consumption : 77\n",
            "Green_Vegetables_Consumption : 75\n",
            "FriedPotato_Consumption : 69\n"
          ]
        }
      ]
    },
    {
      "cell_type": "code",
      "source": [
        "df['Checkup'].value_counts()"
      ],
      "metadata": {
        "colab": {
          "base_uri": "https://localhost:8080/"
        },
        "id": "nKvVSvzyH0i9",
        "outputId": "71c4b644-4e31-4309-976d-d3bef8f01916"
      },
      "execution_count": 10,
      "outputs": [
        {
          "output_type": "execute_result",
          "data": {
            "text/plain": [
              "Within the past year       239371\n",
              "Within the past 2 years     37213\n",
              "Within the past 5 years     17442\n",
              "5 or more years ago         13421\n",
              "Never                        1407\n",
              "Name: Checkup, dtype: int64"
            ]
          },
          "metadata": {},
          "execution_count": 10
        }
      ]
    },
    {
      "cell_type": "code",
      "source": [
        "df['Diabetes'].value_counts()"
      ],
      "metadata": {
        "colab": {
          "base_uri": "https://localhost:8080/"
        },
        "id": "8AgR69HMH5Iq",
        "outputId": "7a34f006-80c1-41d5-9a5d-1df304497d46"
      },
      "execution_count": 11,
      "outputs": [
        {
          "output_type": "execute_result",
          "data": {
            "text/plain": [
              "No                                            259141\n",
              "Yes                                            40171\n",
              "No, pre-diabetes or borderline diabetes         6896\n",
              "Yes, but female told only during pregnancy      2646\n",
              "Name: Diabetes, dtype: int64"
            ]
          },
          "metadata": {},
          "execution_count": 11
        }
      ]
    },
    {
      "cell_type": "markdown",
      "source": [
        "#### Ordinal Encoding :"
      ],
      "metadata": {
        "id": "6ybeTK6gIhkF"
      }
    },
    {
      "cell_type": "code",
      "source": [
        "from sklearn.preprocessing import OrdinalEncoder"
      ],
      "metadata": {
        "id": "pCFSWmZbH7py"
      },
      "execution_count": 12,
      "outputs": []
    },
    {
      "cell_type": "code",
      "source": [
        "enc = OrdinalEncoder()"
      ],
      "metadata": {
        "id": "DEzvUIOSIeX8"
      },
      "execution_count": 13,
      "outputs": []
    },
    {
      "cell_type": "markdown",
      "source": [
        "##### Auto Encode : Columns with 'Yes'-'No' values"
      ],
      "metadata": {
        "id": "VInt9C6xJStg"
      }
    },
    {
      "cell_type": "code",
      "source": [
        "df['Exercise'] = enc.fit_transform(df[['Exercise']])\n",
        "df['Heart_Disease'] = enc.fit_transform(df[['Heart_Disease']])\n",
        "df['Skin_Cancer'] = enc.fit_transform(df[['Skin_Cancer']])\n",
        "df['Other_Cancer'] = enc.fit_transform(df[['Other_Cancer']])\n",
        "df['Depression'] = enc.fit_transform(df[['Depression']])\n",
        "df['Sex'] = enc.fit_transform(df[['Sex']])\n",
        "df['Arthritis'] = enc.fit_transform(df[['Arthritis']])\n",
        "df['Smoking_History'] = enc.fit_transform(df[['Smoking_History']])"
      ],
      "metadata": {
        "id": "L-TgzvT1IoHh"
      },
      "execution_count": 14,
      "outputs": []
    },
    {
      "cell_type": "code",
      "source": [
        "df.head()"
      ],
      "metadata": {
        "colab": {
          "base_uri": "https://localhost:8080/",
          "height": 0
        },
        "id": "Z_zzONP_IqfY",
        "outputId": "fd98c3eb-a608-4dae-8e62-e14ce7e7e383"
      },
      "execution_count": 15,
      "outputs": [
        {
          "output_type": "execute_result",
          "data": {
            "text/plain": [
              "  General_Health                  Checkup  Exercise  Heart_Disease  \\\n",
              "0           Poor  Within the past 2 years       0.0            0.0   \n",
              "1      Very Good     Within the past year       0.0            1.0   \n",
              "2      Very Good     Within the past year       1.0            0.0   \n",
              "3           Poor     Within the past year       1.0            1.0   \n",
              "4           Good     Within the past year       0.0            0.0   \n",
              "\n",
              "   Skin_Cancer  Other_Cancer  Depression Diabetes  Arthritis  Sex  \\\n",
              "0          0.0           0.0         0.0       No        1.0  0.0   \n",
              "1          0.0           0.0         0.0      Yes        0.0  0.0   \n",
              "2          0.0           0.0         0.0      Yes        0.0  0.0   \n",
              "3          0.0           0.0         0.0      Yes        0.0  1.0   \n",
              "4          0.0           0.0         0.0       No        0.0  1.0   \n",
              "\n",
              "  Age_Category  Height_(cm)  Weight_(kg)    BMI  Smoking_History  \\\n",
              "0        70-74        150.0        32.66  14.54              1.0   \n",
              "1        70-74        165.0        77.11  28.29              0.0   \n",
              "2        60-64        163.0        88.45  33.47              0.0   \n",
              "3        75-79        180.0        93.44  28.73              0.0   \n",
              "4          80+        191.0        88.45  24.37              1.0   \n",
              "\n",
              "   Alcohol_Consumption  Fruit_Consumption  Green_Vegetables_Consumption  \\\n",
              "0                  0.0               30.0                          16.0   \n",
              "1                  0.0               30.0                           0.0   \n",
              "2                  4.0               12.0                           3.0   \n",
              "3                  0.0               30.0                          30.0   \n",
              "4                  0.0                8.0                           4.0   \n",
              "\n",
              "   FriedPotato_Consumption  \n",
              "0                     12.0  \n",
              "1                      4.0  \n",
              "2                     16.0  \n",
              "3                      8.0  \n",
              "4                      0.0  "
            ],
            "text/html": [
              "\n",
              "  <div id=\"df-b830959e-9904-4ab8-88c5-f54e2021f199\">\n",
              "    <div class=\"colab-df-container\">\n",
              "      <div>\n",
              "<style scoped>\n",
              "    .dataframe tbody tr th:only-of-type {\n",
              "        vertical-align: middle;\n",
              "    }\n",
              "\n",
              "    .dataframe tbody tr th {\n",
              "        vertical-align: top;\n",
              "    }\n",
              "\n",
              "    .dataframe thead th {\n",
              "        text-align: right;\n",
              "    }\n",
              "</style>\n",
              "<table border=\"1\" class=\"dataframe\">\n",
              "  <thead>\n",
              "    <tr style=\"text-align: right;\">\n",
              "      <th></th>\n",
              "      <th>General_Health</th>\n",
              "      <th>Checkup</th>\n",
              "      <th>Exercise</th>\n",
              "      <th>Heart_Disease</th>\n",
              "      <th>Skin_Cancer</th>\n",
              "      <th>Other_Cancer</th>\n",
              "      <th>Depression</th>\n",
              "      <th>Diabetes</th>\n",
              "      <th>Arthritis</th>\n",
              "      <th>Sex</th>\n",
              "      <th>Age_Category</th>\n",
              "      <th>Height_(cm)</th>\n",
              "      <th>Weight_(kg)</th>\n",
              "      <th>BMI</th>\n",
              "      <th>Smoking_History</th>\n",
              "      <th>Alcohol_Consumption</th>\n",
              "      <th>Fruit_Consumption</th>\n",
              "      <th>Green_Vegetables_Consumption</th>\n",
              "      <th>FriedPotato_Consumption</th>\n",
              "    </tr>\n",
              "  </thead>\n",
              "  <tbody>\n",
              "    <tr>\n",
              "      <th>0</th>\n",
              "      <td>Poor</td>\n",
              "      <td>Within the past 2 years</td>\n",
              "      <td>0.0</td>\n",
              "      <td>0.0</td>\n",
              "      <td>0.0</td>\n",
              "      <td>0.0</td>\n",
              "      <td>0.0</td>\n",
              "      <td>No</td>\n",
              "      <td>1.0</td>\n",
              "      <td>0.0</td>\n",
              "      <td>70-74</td>\n",
              "      <td>150.0</td>\n",
              "      <td>32.66</td>\n",
              "      <td>14.54</td>\n",
              "      <td>1.0</td>\n",
              "      <td>0.0</td>\n",
              "      <td>30.0</td>\n",
              "      <td>16.0</td>\n",
              "      <td>12.0</td>\n",
              "    </tr>\n",
              "    <tr>\n",
              "      <th>1</th>\n",
              "      <td>Very Good</td>\n",
              "      <td>Within the past year</td>\n",
              "      <td>0.0</td>\n",
              "      <td>1.0</td>\n",
              "      <td>0.0</td>\n",
              "      <td>0.0</td>\n",
              "      <td>0.0</td>\n",
              "      <td>Yes</td>\n",
              "      <td>0.0</td>\n",
              "      <td>0.0</td>\n",
              "      <td>70-74</td>\n",
              "      <td>165.0</td>\n",
              "      <td>77.11</td>\n",
              "      <td>28.29</td>\n",
              "      <td>0.0</td>\n",
              "      <td>0.0</td>\n",
              "      <td>30.0</td>\n",
              "      <td>0.0</td>\n",
              "      <td>4.0</td>\n",
              "    </tr>\n",
              "    <tr>\n",
              "      <th>2</th>\n",
              "      <td>Very Good</td>\n",
              "      <td>Within the past year</td>\n",
              "      <td>1.0</td>\n",
              "      <td>0.0</td>\n",
              "      <td>0.0</td>\n",
              "      <td>0.0</td>\n",
              "      <td>0.0</td>\n",
              "      <td>Yes</td>\n",
              "      <td>0.0</td>\n",
              "      <td>0.0</td>\n",
              "      <td>60-64</td>\n",
              "      <td>163.0</td>\n",
              "      <td>88.45</td>\n",
              "      <td>33.47</td>\n",
              "      <td>0.0</td>\n",
              "      <td>4.0</td>\n",
              "      <td>12.0</td>\n",
              "      <td>3.0</td>\n",
              "      <td>16.0</td>\n",
              "    </tr>\n",
              "    <tr>\n",
              "      <th>3</th>\n",
              "      <td>Poor</td>\n",
              "      <td>Within the past year</td>\n",
              "      <td>1.0</td>\n",
              "      <td>1.0</td>\n",
              "      <td>0.0</td>\n",
              "      <td>0.0</td>\n",
              "      <td>0.0</td>\n",
              "      <td>Yes</td>\n",
              "      <td>0.0</td>\n",
              "      <td>1.0</td>\n",
              "      <td>75-79</td>\n",
              "      <td>180.0</td>\n",
              "      <td>93.44</td>\n",
              "      <td>28.73</td>\n",
              "      <td>0.0</td>\n",
              "      <td>0.0</td>\n",
              "      <td>30.0</td>\n",
              "      <td>30.0</td>\n",
              "      <td>8.0</td>\n",
              "    </tr>\n",
              "    <tr>\n",
              "      <th>4</th>\n",
              "      <td>Good</td>\n",
              "      <td>Within the past year</td>\n",
              "      <td>0.0</td>\n",
              "      <td>0.0</td>\n",
              "      <td>0.0</td>\n",
              "      <td>0.0</td>\n",
              "      <td>0.0</td>\n",
              "      <td>No</td>\n",
              "      <td>0.0</td>\n",
              "      <td>1.0</td>\n",
              "      <td>80+</td>\n",
              "      <td>191.0</td>\n",
              "      <td>88.45</td>\n",
              "      <td>24.37</td>\n",
              "      <td>1.0</td>\n",
              "      <td>0.0</td>\n",
              "      <td>8.0</td>\n",
              "      <td>4.0</td>\n",
              "      <td>0.0</td>\n",
              "    </tr>\n",
              "  </tbody>\n",
              "</table>\n",
              "</div>\n",
              "      <button class=\"colab-df-convert\" onclick=\"convertToInteractive('df-b830959e-9904-4ab8-88c5-f54e2021f199')\"\n",
              "              title=\"Convert this dataframe to an interactive table.\"\n",
              "              style=\"display:none;\">\n",
              "        \n",
              "  <svg xmlns=\"http://www.w3.org/2000/svg\" height=\"24px\"viewBox=\"0 0 24 24\"\n",
              "       width=\"24px\">\n",
              "    <path d=\"M0 0h24v24H0V0z\" fill=\"none\"/>\n",
              "    <path d=\"M18.56 5.44l.94 2.06.94-2.06 2.06-.94-2.06-.94-.94-2.06-.94 2.06-2.06.94zm-11 1L8.5 8.5l.94-2.06 2.06-.94-2.06-.94L8.5 2.5l-.94 2.06-2.06.94zm10 10l.94 2.06.94-2.06 2.06-.94-2.06-.94-.94-2.06-.94 2.06-2.06.94z\"/><path d=\"M17.41 7.96l-1.37-1.37c-.4-.4-.92-.59-1.43-.59-.52 0-1.04.2-1.43.59L10.3 9.45l-7.72 7.72c-.78.78-.78 2.05 0 2.83L4 21.41c.39.39.9.59 1.41.59.51 0 1.02-.2 1.41-.59l7.78-7.78 2.81-2.81c.8-.78.8-2.07 0-2.86zM5.41 20L4 18.59l7.72-7.72 1.47 1.35L5.41 20z\"/>\n",
              "  </svg>\n",
              "      </button>\n",
              "      \n",
              "  <style>\n",
              "    .colab-df-container {\n",
              "      display:flex;\n",
              "      flex-wrap:wrap;\n",
              "      gap: 12px;\n",
              "    }\n",
              "\n",
              "    .colab-df-convert {\n",
              "      background-color: #E8F0FE;\n",
              "      border: none;\n",
              "      border-radius: 50%;\n",
              "      cursor: pointer;\n",
              "      display: none;\n",
              "      fill: #1967D2;\n",
              "      height: 32px;\n",
              "      padding: 0 0 0 0;\n",
              "      width: 32px;\n",
              "    }\n",
              "\n",
              "    .colab-df-convert:hover {\n",
              "      background-color: #E2EBFA;\n",
              "      box-shadow: 0px 1px 2px rgba(60, 64, 67, 0.3), 0px 1px 3px 1px rgba(60, 64, 67, 0.15);\n",
              "      fill: #174EA6;\n",
              "    }\n",
              "\n",
              "    [theme=dark] .colab-df-convert {\n",
              "      background-color: #3B4455;\n",
              "      fill: #D2E3FC;\n",
              "    }\n",
              "\n",
              "    [theme=dark] .colab-df-convert:hover {\n",
              "      background-color: #434B5C;\n",
              "      box-shadow: 0px 1px 3px 1px rgba(0, 0, 0, 0.15);\n",
              "      filter: drop-shadow(0px 1px 2px rgba(0, 0, 0, 0.3));\n",
              "      fill: #FFFFFF;\n",
              "    }\n",
              "  </style>\n",
              "\n",
              "      <script>\n",
              "        const buttonEl =\n",
              "          document.querySelector('#df-b830959e-9904-4ab8-88c5-f54e2021f199 button.colab-df-convert');\n",
              "        buttonEl.style.display =\n",
              "          google.colab.kernel.accessAllowed ? 'block' : 'none';\n",
              "\n",
              "        async function convertToInteractive(key) {\n",
              "          const element = document.querySelector('#df-b830959e-9904-4ab8-88c5-f54e2021f199');\n",
              "          const dataTable =\n",
              "            await google.colab.kernel.invokeFunction('convertToInteractive',\n",
              "                                                     [key], {});\n",
              "          if (!dataTable) return;\n",
              "\n",
              "          const docLinkHtml = 'Like what you see? Visit the ' +\n",
              "            '<a target=\"_blank\" href=https://colab.research.google.com/notebooks/data_table.ipynb>data table notebook</a>'\n",
              "            + ' to learn more about interactive tables.';\n",
              "          element.innerHTML = '';\n",
              "          dataTable['output_type'] = 'display_data';\n",
              "          await google.colab.output.renderOutput(dataTable, element);\n",
              "          const docLink = document.createElement('div');\n",
              "          docLink.innerHTML = docLinkHtml;\n",
              "          element.appendChild(docLink);\n",
              "        }\n",
              "      </script>\n",
              "    </div>\n",
              "  </div>\n",
              "  "
            ]
          },
          "metadata": {},
          "execution_count": 15
        }
      ]
    },
    {
      "cell_type": "markdown",
      "source": [
        "##### Manually Encoding : Column **'General_Health'**"
      ],
      "metadata": {
        "id": "Mcg15VwPJaC-"
      }
    },
    {
      "cell_type": "code",
      "source": [
        "rank=['Poor','Fair','Good','Very Good','Excellent']\n",
        "oe = OrdinalEncoder(categories=[rank])\n",
        "df['General_Health']=oe.fit_transform(df[['General_Health']])"
      ],
      "metadata": {
        "id": "Yj_S16jnI6EG"
      },
      "execution_count": 16,
      "outputs": []
    },
    {
      "cell_type": "markdown",
      "source": [
        "##### Manually Encoding : Column **'Diabetes'**"
      ],
      "metadata": {
        "id": "EhtEmMVSJrf8"
      }
    },
    {
      "cell_type": "code",
      "source": [
        "rank1=['No','No, pre-diabetes or borderline diabetes','Yes, but female told only during pregnancy','Yes']\n",
        "oe1 = OrdinalEncoder(categories=[rank1])\n",
        "df['Diabetes']=oe1.fit_transform(df[['Diabetes']])"
      ],
      "metadata": {
        "id": "DbkV_JPIJJl-"
      },
      "execution_count": 17,
      "outputs": []
    },
    {
      "cell_type": "markdown",
      "source": [
        "##### Manually Encoding : Column **'Checkup'**"
      ],
      "metadata": {
        "id": "Re3mPVIGJtzm"
      }
    },
    {
      "cell_type": "code",
      "source": [
        "rank2=['Within the past year','Within the past 2 years','Within the past 5 years','5 or more years ago','Never']\n",
        "oe2 = OrdinalEncoder(categories=[rank2])\n",
        "df['Checkup']=oe2.fit_transform(df[['Checkup']])"
      ],
      "metadata": {
        "id": "7kFYnOHlJpN6"
      },
      "execution_count": 18,
      "outputs": []
    },
    {
      "cell_type": "code",
      "source": [
        "df.head()"
      ],
      "metadata": {
        "colab": {
          "base_uri": "https://localhost:8080/",
          "height": 0
        },
        "id": "LrwIRQRMJNn8",
        "outputId": "4e19c78f-4cc4-43fd-ca6e-e8e7d0709449"
      },
      "execution_count": 19,
      "outputs": [
        {
          "output_type": "execute_result",
          "data": {
            "text/plain": [
              "   General_Health  Checkup  Exercise  Heart_Disease  Skin_Cancer  \\\n",
              "0             0.0      1.0       0.0            0.0          0.0   \n",
              "1             3.0      0.0       0.0            1.0          0.0   \n",
              "2             3.0      0.0       1.0            0.0          0.0   \n",
              "3             0.0      0.0       1.0            1.0          0.0   \n",
              "4             2.0      0.0       0.0            0.0          0.0   \n",
              "\n",
              "   Other_Cancer  Depression  Diabetes  Arthritis  Sex Age_Category  \\\n",
              "0           0.0         0.0       0.0        1.0  0.0        70-74   \n",
              "1           0.0         0.0       3.0        0.0  0.0        70-74   \n",
              "2           0.0         0.0       3.0        0.0  0.0        60-64   \n",
              "3           0.0         0.0       3.0        0.0  1.0        75-79   \n",
              "4           0.0         0.0       0.0        0.0  1.0          80+   \n",
              "\n",
              "   Height_(cm)  Weight_(kg)    BMI  Smoking_History  Alcohol_Consumption  \\\n",
              "0        150.0        32.66  14.54              1.0                  0.0   \n",
              "1        165.0        77.11  28.29              0.0                  0.0   \n",
              "2        163.0        88.45  33.47              0.0                  4.0   \n",
              "3        180.0        93.44  28.73              0.0                  0.0   \n",
              "4        191.0        88.45  24.37              1.0                  0.0   \n",
              "\n",
              "   Fruit_Consumption  Green_Vegetables_Consumption  FriedPotato_Consumption  \n",
              "0               30.0                          16.0                     12.0  \n",
              "1               30.0                           0.0                      4.0  \n",
              "2               12.0                           3.0                     16.0  \n",
              "3               30.0                          30.0                      8.0  \n",
              "4                8.0                           4.0                      0.0  "
            ],
            "text/html": [
              "\n",
              "  <div id=\"df-b3dd9bb0-5439-495d-8c65-7cd7fc869637\">\n",
              "    <div class=\"colab-df-container\">\n",
              "      <div>\n",
              "<style scoped>\n",
              "    .dataframe tbody tr th:only-of-type {\n",
              "        vertical-align: middle;\n",
              "    }\n",
              "\n",
              "    .dataframe tbody tr th {\n",
              "        vertical-align: top;\n",
              "    }\n",
              "\n",
              "    .dataframe thead th {\n",
              "        text-align: right;\n",
              "    }\n",
              "</style>\n",
              "<table border=\"1\" class=\"dataframe\">\n",
              "  <thead>\n",
              "    <tr style=\"text-align: right;\">\n",
              "      <th></th>\n",
              "      <th>General_Health</th>\n",
              "      <th>Checkup</th>\n",
              "      <th>Exercise</th>\n",
              "      <th>Heart_Disease</th>\n",
              "      <th>Skin_Cancer</th>\n",
              "      <th>Other_Cancer</th>\n",
              "      <th>Depression</th>\n",
              "      <th>Diabetes</th>\n",
              "      <th>Arthritis</th>\n",
              "      <th>Sex</th>\n",
              "      <th>Age_Category</th>\n",
              "      <th>Height_(cm)</th>\n",
              "      <th>Weight_(kg)</th>\n",
              "      <th>BMI</th>\n",
              "      <th>Smoking_History</th>\n",
              "      <th>Alcohol_Consumption</th>\n",
              "      <th>Fruit_Consumption</th>\n",
              "      <th>Green_Vegetables_Consumption</th>\n",
              "      <th>FriedPotato_Consumption</th>\n",
              "    </tr>\n",
              "  </thead>\n",
              "  <tbody>\n",
              "    <tr>\n",
              "      <th>0</th>\n",
              "      <td>0.0</td>\n",
              "      <td>1.0</td>\n",
              "      <td>0.0</td>\n",
              "      <td>0.0</td>\n",
              "      <td>0.0</td>\n",
              "      <td>0.0</td>\n",
              "      <td>0.0</td>\n",
              "      <td>0.0</td>\n",
              "      <td>1.0</td>\n",
              "      <td>0.0</td>\n",
              "      <td>70-74</td>\n",
              "      <td>150.0</td>\n",
              "      <td>32.66</td>\n",
              "      <td>14.54</td>\n",
              "      <td>1.0</td>\n",
              "      <td>0.0</td>\n",
              "      <td>30.0</td>\n",
              "      <td>16.0</td>\n",
              "      <td>12.0</td>\n",
              "    </tr>\n",
              "    <tr>\n",
              "      <th>1</th>\n",
              "      <td>3.0</td>\n",
              "      <td>0.0</td>\n",
              "      <td>0.0</td>\n",
              "      <td>1.0</td>\n",
              "      <td>0.0</td>\n",
              "      <td>0.0</td>\n",
              "      <td>0.0</td>\n",
              "      <td>3.0</td>\n",
              "      <td>0.0</td>\n",
              "      <td>0.0</td>\n",
              "      <td>70-74</td>\n",
              "      <td>165.0</td>\n",
              "      <td>77.11</td>\n",
              "      <td>28.29</td>\n",
              "      <td>0.0</td>\n",
              "      <td>0.0</td>\n",
              "      <td>30.0</td>\n",
              "      <td>0.0</td>\n",
              "      <td>4.0</td>\n",
              "    </tr>\n",
              "    <tr>\n",
              "      <th>2</th>\n",
              "      <td>3.0</td>\n",
              "      <td>0.0</td>\n",
              "      <td>1.0</td>\n",
              "      <td>0.0</td>\n",
              "      <td>0.0</td>\n",
              "      <td>0.0</td>\n",
              "      <td>0.0</td>\n",
              "      <td>3.0</td>\n",
              "      <td>0.0</td>\n",
              "      <td>0.0</td>\n",
              "      <td>60-64</td>\n",
              "      <td>163.0</td>\n",
              "      <td>88.45</td>\n",
              "      <td>33.47</td>\n",
              "      <td>0.0</td>\n",
              "      <td>4.0</td>\n",
              "      <td>12.0</td>\n",
              "      <td>3.0</td>\n",
              "      <td>16.0</td>\n",
              "    </tr>\n",
              "    <tr>\n",
              "      <th>3</th>\n",
              "      <td>0.0</td>\n",
              "      <td>0.0</td>\n",
              "      <td>1.0</td>\n",
              "      <td>1.0</td>\n",
              "      <td>0.0</td>\n",
              "      <td>0.0</td>\n",
              "      <td>0.0</td>\n",
              "      <td>3.0</td>\n",
              "      <td>0.0</td>\n",
              "      <td>1.0</td>\n",
              "      <td>75-79</td>\n",
              "      <td>180.0</td>\n",
              "      <td>93.44</td>\n",
              "      <td>28.73</td>\n",
              "      <td>0.0</td>\n",
              "      <td>0.0</td>\n",
              "      <td>30.0</td>\n",
              "      <td>30.0</td>\n",
              "      <td>8.0</td>\n",
              "    </tr>\n",
              "    <tr>\n",
              "      <th>4</th>\n",
              "      <td>2.0</td>\n",
              "      <td>0.0</td>\n",
              "      <td>0.0</td>\n",
              "      <td>0.0</td>\n",
              "      <td>0.0</td>\n",
              "      <td>0.0</td>\n",
              "      <td>0.0</td>\n",
              "      <td>0.0</td>\n",
              "      <td>0.0</td>\n",
              "      <td>1.0</td>\n",
              "      <td>80+</td>\n",
              "      <td>191.0</td>\n",
              "      <td>88.45</td>\n",
              "      <td>24.37</td>\n",
              "      <td>1.0</td>\n",
              "      <td>0.0</td>\n",
              "      <td>8.0</td>\n",
              "      <td>4.0</td>\n",
              "      <td>0.0</td>\n",
              "    </tr>\n",
              "  </tbody>\n",
              "</table>\n",
              "</div>\n",
              "      <button class=\"colab-df-convert\" onclick=\"convertToInteractive('df-b3dd9bb0-5439-495d-8c65-7cd7fc869637')\"\n",
              "              title=\"Convert this dataframe to an interactive table.\"\n",
              "              style=\"display:none;\">\n",
              "        \n",
              "  <svg xmlns=\"http://www.w3.org/2000/svg\" height=\"24px\"viewBox=\"0 0 24 24\"\n",
              "       width=\"24px\">\n",
              "    <path d=\"M0 0h24v24H0V0z\" fill=\"none\"/>\n",
              "    <path d=\"M18.56 5.44l.94 2.06.94-2.06 2.06-.94-2.06-.94-.94-2.06-.94 2.06-2.06.94zm-11 1L8.5 8.5l.94-2.06 2.06-.94-2.06-.94L8.5 2.5l-.94 2.06-2.06.94zm10 10l.94 2.06.94-2.06 2.06-.94-2.06-.94-.94-2.06-.94 2.06-2.06.94z\"/><path d=\"M17.41 7.96l-1.37-1.37c-.4-.4-.92-.59-1.43-.59-.52 0-1.04.2-1.43.59L10.3 9.45l-7.72 7.72c-.78.78-.78 2.05 0 2.83L4 21.41c.39.39.9.59 1.41.59.51 0 1.02-.2 1.41-.59l7.78-7.78 2.81-2.81c.8-.78.8-2.07 0-2.86zM5.41 20L4 18.59l7.72-7.72 1.47 1.35L5.41 20z\"/>\n",
              "  </svg>\n",
              "      </button>\n",
              "      \n",
              "  <style>\n",
              "    .colab-df-container {\n",
              "      display:flex;\n",
              "      flex-wrap:wrap;\n",
              "      gap: 12px;\n",
              "    }\n",
              "\n",
              "    .colab-df-convert {\n",
              "      background-color: #E8F0FE;\n",
              "      border: none;\n",
              "      border-radius: 50%;\n",
              "      cursor: pointer;\n",
              "      display: none;\n",
              "      fill: #1967D2;\n",
              "      height: 32px;\n",
              "      padding: 0 0 0 0;\n",
              "      width: 32px;\n",
              "    }\n",
              "\n",
              "    .colab-df-convert:hover {\n",
              "      background-color: #E2EBFA;\n",
              "      box-shadow: 0px 1px 2px rgba(60, 64, 67, 0.3), 0px 1px 3px 1px rgba(60, 64, 67, 0.15);\n",
              "      fill: #174EA6;\n",
              "    }\n",
              "\n",
              "    [theme=dark] .colab-df-convert {\n",
              "      background-color: #3B4455;\n",
              "      fill: #D2E3FC;\n",
              "    }\n",
              "\n",
              "    [theme=dark] .colab-df-convert:hover {\n",
              "      background-color: #434B5C;\n",
              "      box-shadow: 0px 1px 3px 1px rgba(0, 0, 0, 0.15);\n",
              "      filter: drop-shadow(0px 1px 2px rgba(0, 0, 0, 0.3));\n",
              "      fill: #FFFFFF;\n",
              "    }\n",
              "  </style>\n",
              "\n",
              "      <script>\n",
              "        const buttonEl =\n",
              "          document.querySelector('#df-b3dd9bb0-5439-495d-8c65-7cd7fc869637 button.colab-df-convert');\n",
              "        buttonEl.style.display =\n",
              "          google.colab.kernel.accessAllowed ? 'block' : 'none';\n",
              "\n",
              "        async function convertToInteractive(key) {\n",
              "          const element = document.querySelector('#df-b3dd9bb0-5439-495d-8c65-7cd7fc869637');\n",
              "          const dataTable =\n",
              "            await google.colab.kernel.invokeFunction('convertToInteractive',\n",
              "                                                     [key], {});\n",
              "          if (!dataTable) return;\n",
              "\n",
              "          const docLinkHtml = 'Like what you see? Visit the ' +\n",
              "            '<a target=\"_blank\" href=https://colab.research.google.com/notebooks/data_table.ipynb>data table notebook</a>'\n",
              "            + ' to learn more about interactive tables.';\n",
              "          element.innerHTML = '';\n",
              "          dataTable['output_type'] = 'display_data';\n",
              "          await google.colab.output.renderOutput(dataTable, element);\n",
              "          const docLink = document.createElement('div');\n",
              "          docLink.innerHTML = docLinkHtml;\n",
              "          element.appendChild(docLink);\n",
              "        }\n",
              "      </script>\n",
              "    </div>\n",
              "  </div>\n",
              "  "
            ]
          },
          "metadata": {},
          "execution_count": 19
        }
      ]
    },
    {
      "cell_type": "markdown",
      "source": [
        "#### Convert Age Column to Integer (Select Min. Value)"
      ],
      "metadata": {
        "id": "bdJTmIFTJ7Fr"
      }
    },
    {
      "cell_type": "code",
      "source": [
        "df['Age_Category']=df['Age_Category'].str[:2].astype(int)"
      ],
      "metadata": {
        "id": "5hP0FQFoJ7bw"
      },
      "execution_count": 20,
      "outputs": []
    },
    {
      "cell_type": "code",
      "source": [
        "df.head()"
      ],
      "metadata": {
        "colab": {
          "base_uri": "https://localhost:8080/",
          "height": 0
        },
        "id": "uEatMA1mJ-4w",
        "outputId": "a0c453d4-cc77-4b28-9e58-19cf47752d1c"
      },
      "execution_count": 21,
      "outputs": [
        {
          "output_type": "execute_result",
          "data": {
            "text/plain": [
              "   General_Health  Checkup  Exercise  Heart_Disease  Skin_Cancer  \\\n",
              "0             0.0      1.0       0.0            0.0          0.0   \n",
              "1             3.0      0.0       0.0            1.0          0.0   \n",
              "2             3.0      0.0       1.0            0.0          0.0   \n",
              "3             0.0      0.0       1.0            1.0          0.0   \n",
              "4             2.0      0.0       0.0            0.0          0.0   \n",
              "\n",
              "   Other_Cancer  Depression  Diabetes  Arthritis  Sex  Age_Category  \\\n",
              "0           0.0         0.0       0.0        1.0  0.0            70   \n",
              "1           0.0         0.0       3.0        0.0  0.0            70   \n",
              "2           0.0         0.0       3.0        0.0  0.0            60   \n",
              "3           0.0         0.0       3.0        0.0  1.0            75   \n",
              "4           0.0         0.0       0.0        0.0  1.0            80   \n",
              "\n",
              "   Height_(cm)  Weight_(kg)    BMI  Smoking_History  Alcohol_Consumption  \\\n",
              "0        150.0        32.66  14.54              1.0                  0.0   \n",
              "1        165.0        77.11  28.29              0.0                  0.0   \n",
              "2        163.0        88.45  33.47              0.0                  4.0   \n",
              "3        180.0        93.44  28.73              0.0                  0.0   \n",
              "4        191.0        88.45  24.37              1.0                  0.0   \n",
              "\n",
              "   Fruit_Consumption  Green_Vegetables_Consumption  FriedPotato_Consumption  \n",
              "0               30.0                          16.0                     12.0  \n",
              "1               30.0                           0.0                      4.0  \n",
              "2               12.0                           3.0                     16.0  \n",
              "3               30.0                          30.0                      8.0  \n",
              "4                8.0                           4.0                      0.0  "
            ],
            "text/html": [
              "\n",
              "  <div id=\"df-4187c943-005c-41f6-8052-4443099de515\">\n",
              "    <div class=\"colab-df-container\">\n",
              "      <div>\n",
              "<style scoped>\n",
              "    .dataframe tbody tr th:only-of-type {\n",
              "        vertical-align: middle;\n",
              "    }\n",
              "\n",
              "    .dataframe tbody tr th {\n",
              "        vertical-align: top;\n",
              "    }\n",
              "\n",
              "    .dataframe thead th {\n",
              "        text-align: right;\n",
              "    }\n",
              "</style>\n",
              "<table border=\"1\" class=\"dataframe\">\n",
              "  <thead>\n",
              "    <tr style=\"text-align: right;\">\n",
              "      <th></th>\n",
              "      <th>General_Health</th>\n",
              "      <th>Checkup</th>\n",
              "      <th>Exercise</th>\n",
              "      <th>Heart_Disease</th>\n",
              "      <th>Skin_Cancer</th>\n",
              "      <th>Other_Cancer</th>\n",
              "      <th>Depression</th>\n",
              "      <th>Diabetes</th>\n",
              "      <th>Arthritis</th>\n",
              "      <th>Sex</th>\n",
              "      <th>Age_Category</th>\n",
              "      <th>Height_(cm)</th>\n",
              "      <th>Weight_(kg)</th>\n",
              "      <th>BMI</th>\n",
              "      <th>Smoking_History</th>\n",
              "      <th>Alcohol_Consumption</th>\n",
              "      <th>Fruit_Consumption</th>\n",
              "      <th>Green_Vegetables_Consumption</th>\n",
              "      <th>FriedPotato_Consumption</th>\n",
              "    </tr>\n",
              "  </thead>\n",
              "  <tbody>\n",
              "    <tr>\n",
              "      <th>0</th>\n",
              "      <td>0.0</td>\n",
              "      <td>1.0</td>\n",
              "      <td>0.0</td>\n",
              "      <td>0.0</td>\n",
              "      <td>0.0</td>\n",
              "      <td>0.0</td>\n",
              "      <td>0.0</td>\n",
              "      <td>0.0</td>\n",
              "      <td>1.0</td>\n",
              "      <td>0.0</td>\n",
              "      <td>70</td>\n",
              "      <td>150.0</td>\n",
              "      <td>32.66</td>\n",
              "      <td>14.54</td>\n",
              "      <td>1.0</td>\n",
              "      <td>0.0</td>\n",
              "      <td>30.0</td>\n",
              "      <td>16.0</td>\n",
              "      <td>12.0</td>\n",
              "    </tr>\n",
              "    <tr>\n",
              "      <th>1</th>\n",
              "      <td>3.0</td>\n",
              "      <td>0.0</td>\n",
              "      <td>0.0</td>\n",
              "      <td>1.0</td>\n",
              "      <td>0.0</td>\n",
              "      <td>0.0</td>\n",
              "      <td>0.0</td>\n",
              "      <td>3.0</td>\n",
              "      <td>0.0</td>\n",
              "      <td>0.0</td>\n",
              "      <td>70</td>\n",
              "      <td>165.0</td>\n",
              "      <td>77.11</td>\n",
              "      <td>28.29</td>\n",
              "      <td>0.0</td>\n",
              "      <td>0.0</td>\n",
              "      <td>30.0</td>\n",
              "      <td>0.0</td>\n",
              "      <td>4.0</td>\n",
              "    </tr>\n",
              "    <tr>\n",
              "      <th>2</th>\n",
              "      <td>3.0</td>\n",
              "      <td>0.0</td>\n",
              "      <td>1.0</td>\n",
              "      <td>0.0</td>\n",
              "      <td>0.0</td>\n",
              "      <td>0.0</td>\n",
              "      <td>0.0</td>\n",
              "      <td>3.0</td>\n",
              "      <td>0.0</td>\n",
              "      <td>0.0</td>\n",
              "      <td>60</td>\n",
              "      <td>163.0</td>\n",
              "      <td>88.45</td>\n",
              "      <td>33.47</td>\n",
              "      <td>0.0</td>\n",
              "      <td>4.0</td>\n",
              "      <td>12.0</td>\n",
              "      <td>3.0</td>\n",
              "      <td>16.0</td>\n",
              "    </tr>\n",
              "    <tr>\n",
              "      <th>3</th>\n",
              "      <td>0.0</td>\n",
              "      <td>0.0</td>\n",
              "      <td>1.0</td>\n",
              "      <td>1.0</td>\n",
              "      <td>0.0</td>\n",
              "      <td>0.0</td>\n",
              "      <td>0.0</td>\n",
              "      <td>3.0</td>\n",
              "      <td>0.0</td>\n",
              "      <td>1.0</td>\n",
              "      <td>75</td>\n",
              "      <td>180.0</td>\n",
              "      <td>93.44</td>\n",
              "      <td>28.73</td>\n",
              "      <td>0.0</td>\n",
              "      <td>0.0</td>\n",
              "      <td>30.0</td>\n",
              "      <td>30.0</td>\n",
              "      <td>8.0</td>\n",
              "    </tr>\n",
              "    <tr>\n",
              "      <th>4</th>\n",
              "      <td>2.0</td>\n",
              "      <td>0.0</td>\n",
              "      <td>0.0</td>\n",
              "      <td>0.0</td>\n",
              "      <td>0.0</td>\n",
              "      <td>0.0</td>\n",
              "      <td>0.0</td>\n",
              "      <td>0.0</td>\n",
              "      <td>0.0</td>\n",
              "      <td>1.0</td>\n",
              "      <td>80</td>\n",
              "      <td>191.0</td>\n",
              "      <td>88.45</td>\n",
              "      <td>24.37</td>\n",
              "      <td>1.0</td>\n",
              "      <td>0.0</td>\n",
              "      <td>8.0</td>\n",
              "      <td>4.0</td>\n",
              "      <td>0.0</td>\n",
              "    </tr>\n",
              "  </tbody>\n",
              "</table>\n",
              "</div>\n",
              "      <button class=\"colab-df-convert\" onclick=\"convertToInteractive('df-4187c943-005c-41f6-8052-4443099de515')\"\n",
              "              title=\"Convert this dataframe to an interactive table.\"\n",
              "              style=\"display:none;\">\n",
              "        \n",
              "  <svg xmlns=\"http://www.w3.org/2000/svg\" height=\"24px\"viewBox=\"0 0 24 24\"\n",
              "       width=\"24px\">\n",
              "    <path d=\"M0 0h24v24H0V0z\" fill=\"none\"/>\n",
              "    <path d=\"M18.56 5.44l.94 2.06.94-2.06 2.06-.94-2.06-.94-.94-2.06-.94 2.06-2.06.94zm-11 1L8.5 8.5l.94-2.06 2.06-.94-2.06-.94L8.5 2.5l-.94 2.06-2.06.94zm10 10l.94 2.06.94-2.06 2.06-.94-2.06-.94-.94-2.06-.94 2.06-2.06.94z\"/><path d=\"M17.41 7.96l-1.37-1.37c-.4-.4-.92-.59-1.43-.59-.52 0-1.04.2-1.43.59L10.3 9.45l-7.72 7.72c-.78.78-.78 2.05 0 2.83L4 21.41c.39.39.9.59 1.41.59.51 0 1.02-.2 1.41-.59l7.78-7.78 2.81-2.81c.8-.78.8-2.07 0-2.86zM5.41 20L4 18.59l7.72-7.72 1.47 1.35L5.41 20z\"/>\n",
              "  </svg>\n",
              "      </button>\n",
              "      \n",
              "  <style>\n",
              "    .colab-df-container {\n",
              "      display:flex;\n",
              "      flex-wrap:wrap;\n",
              "      gap: 12px;\n",
              "    }\n",
              "\n",
              "    .colab-df-convert {\n",
              "      background-color: #E8F0FE;\n",
              "      border: none;\n",
              "      border-radius: 50%;\n",
              "      cursor: pointer;\n",
              "      display: none;\n",
              "      fill: #1967D2;\n",
              "      height: 32px;\n",
              "      padding: 0 0 0 0;\n",
              "      width: 32px;\n",
              "    }\n",
              "\n",
              "    .colab-df-convert:hover {\n",
              "      background-color: #E2EBFA;\n",
              "      box-shadow: 0px 1px 2px rgba(60, 64, 67, 0.3), 0px 1px 3px 1px rgba(60, 64, 67, 0.15);\n",
              "      fill: #174EA6;\n",
              "    }\n",
              "\n",
              "    [theme=dark] .colab-df-convert {\n",
              "      background-color: #3B4455;\n",
              "      fill: #D2E3FC;\n",
              "    }\n",
              "\n",
              "    [theme=dark] .colab-df-convert:hover {\n",
              "      background-color: #434B5C;\n",
              "      box-shadow: 0px 1px 3px 1px rgba(0, 0, 0, 0.15);\n",
              "      filter: drop-shadow(0px 1px 2px rgba(0, 0, 0, 0.3));\n",
              "      fill: #FFFFFF;\n",
              "    }\n",
              "  </style>\n",
              "\n",
              "      <script>\n",
              "        const buttonEl =\n",
              "          document.querySelector('#df-4187c943-005c-41f6-8052-4443099de515 button.colab-df-convert');\n",
              "        buttonEl.style.display =\n",
              "          google.colab.kernel.accessAllowed ? 'block' : 'none';\n",
              "\n",
              "        async function convertToInteractive(key) {\n",
              "          const element = document.querySelector('#df-4187c943-005c-41f6-8052-4443099de515');\n",
              "          const dataTable =\n",
              "            await google.colab.kernel.invokeFunction('convertToInteractive',\n",
              "                                                     [key], {});\n",
              "          if (!dataTable) return;\n",
              "\n",
              "          const docLinkHtml = 'Like what you see? Visit the ' +\n",
              "            '<a target=\"_blank\" href=https://colab.research.google.com/notebooks/data_table.ipynb>data table notebook</a>'\n",
              "            + ' to learn more about interactive tables.';\n",
              "          element.innerHTML = '';\n",
              "          dataTable['output_type'] = 'display_data';\n",
              "          await google.colab.output.renderOutput(dataTable, element);\n",
              "          const docLink = document.createElement('div');\n",
              "          docLink.innerHTML = docLinkHtml;\n",
              "          element.appendChild(docLink);\n",
              "        }\n",
              "      </script>\n",
              "    </div>\n",
              "  </div>\n",
              "  "
            ]
          },
          "metadata": {},
          "execution_count": 21
        }
      ]
    },
    {
      "cell_type": "markdown",
      "source": [
        "### **Data Preprocessing**"
      ],
      "metadata": {
        "id": "PDCBjKu8PCGU"
      }
    },
    {
      "cell_type": "markdown",
      "source": [
        "#### Scaling : Min-Max"
      ],
      "metadata": {
        "id": "TYkYoHoTPVem"
      }
    },
    {
      "cell_type": "code",
      "source": [
        "from sklearn.preprocessing import MinMaxScaler\n",
        "X = df.drop(['Heart_Disease'],axis=1)\n",
        "y = df['Heart_Disease']"
      ],
      "metadata": {
        "id": "vcx4H__TPHON"
      },
      "execution_count": 22,
      "outputs": []
    },
    {
      "cell_type": "code",
      "source": [
        "from imblearn.over_sampling import SMOTE\n",
        "sm = SMOTE(sampling_strategy = 'minority')\n",
        "X , y = sm.fit_resample(X,y)\n",
        "y.value_counts()"
      ],
      "metadata": {
        "colab": {
          "base_uri": "https://localhost:8080/"
        },
        "id": "0W-dPTg8PalC",
        "outputId": "8d2a76ac-7bc4-419d-a554-5997aba4dc93"
      },
      "execution_count": 23,
      "outputs": [
        {
          "output_type": "execute_result",
          "data": {
            "text/plain": [
              "0.0    283883\n",
              "1.0    283883\n",
              "Name: Heart_Disease, dtype: int64"
            ]
          },
          "metadata": {},
          "execution_count": 23
        }
      ]
    },
    {
      "cell_type": "code",
      "source": [
        "scalar = MinMaxScaler()\n",
        "X1 = scalar.fit_transform(X)\n",
        "X1.shape"
      ],
      "metadata": {
        "colab": {
          "base_uri": "https://localhost:8080/"
        },
        "id": "Wy2z38qMPbsc",
        "outputId": "0235e8b0-b8e5-4739-b23b-5aed5db399f7"
      },
      "execution_count": 24,
      "outputs": [
        {
          "output_type": "execute_result",
          "data": {
            "text/plain": [
              "(567766, 18)"
            ]
          },
          "metadata": {},
          "execution_count": 24
        }
      ]
    },
    {
      "cell_type": "markdown",
      "source": [
        "#### Train Test Split"
      ],
      "metadata": {
        "id": "K65c-Ak9Pnda"
      }
    },
    {
      "cell_type": "code",
      "source": [
        "from sklearn.model_selection import train_test_split\n",
        "X_train, X_test, y_train, y_test = train_test_split(X1, y, test_size=0.2,stratify=y)"
      ],
      "metadata": {
        "id": "Z-28EiWYPqPy"
      },
      "execution_count": 25,
      "outputs": []
    },
    {
      "cell_type": "code",
      "source": [
        "X_train.shape"
      ],
      "metadata": {
        "colab": {
          "base_uri": "https://localhost:8080/"
        },
        "id": "YbatckIHPyAT",
        "outputId": "02733f38-e516-4680-e482-a92407fe20de"
      },
      "execution_count": 26,
      "outputs": [
        {
          "output_type": "execute_result",
          "data": {
            "text/plain": [
              "(454212, 18)"
            ]
          },
          "metadata": {},
          "execution_count": 26
        }
      ]
    },
    {
      "cell_type": "code",
      "source": [
        "X_test.shape"
      ],
      "metadata": {
        "colab": {
          "base_uri": "https://localhost:8080/"
        },
        "id": "AjbC8gMEPxla",
        "outputId": "1a00a2e7-91b2-496a-8900-cf7592488db5"
      },
      "execution_count": 27,
      "outputs": [
        {
          "output_type": "execute_result",
          "data": {
            "text/plain": [
              "(113554, 18)"
            ]
          },
          "metadata": {},
          "execution_count": 27
        }
      ]
    },
    {
      "cell_type": "code",
      "source": [
        "y_train.shape"
      ],
      "metadata": {
        "colab": {
          "base_uri": "https://localhost:8080/"
        },
        "id": "njioFI1SP6we",
        "outputId": "2a489d95-9e34-4a34-db24-b92664d96f45"
      },
      "execution_count": 28,
      "outputs": [
        {
          "output_type": "execute_result",
          "data": {
            "text/plain": [
              "(454212,)"
            ]
          },
          "metadata": {},
          "execution_count": 28
        }
      ]
    },
    {
      "cell_type": "code",
      "source": [
        "y_test.shape"
      ],
      "metadata": {
        "colab": {
          "base_uri": "https://localhost:8080/"
        },
        "id": "e72ehyX0QE_g",
        "outputId": "d0314789-cc2d-4ec5-eb55-6c2b15fe2e00"
      },
      "execution_count": 29,
      "outputs": [
        {
          "output_type": "execute_result",
          "data": {
            "text/plain": [
              "(113554,)"
            ]
          },
          "metadata": {},
          "execution_count": 29
        }
      ]
    },
    {
      "cell_type": "markdown",
      "source": [
        "### **Classification : Neural Network**"
      ],
      "metadata": {
        "id": "1kjbEDhqQIe7"
      }
    },
    {
      "cell_type": "code",
      "source": [
        "import numpy as np\n",
        "import keras\n",
        "from keras.callbacks import CSVLogger\n",
        "from keras.models import Sequential\n",
        "from keras.layers import Dense, Dropout, LeakyReLU\n",
        "import time\n",
        "import tensorflow as tf\n",
        "\n",
        "np.random.seed(123)\n",
        "tf.random.set_seed(123)\n",
        "\n",
        "csv_logger = CSVLogger('cvd.csv', append=False, separator=';')\n",
        "\n",
        "classifier = Sequential()\n",
        "classifier.add(Dense(9,activation='relu',input_dim=18))\n",
        "\n",
        "classifier.add(Dense(3))\n",
        "classifier.add(LeakyReLU(alpha=0.1))\n",
        "\n",
        "classifier.add(Dense(1, activation='sigmoid'))\n",
        "\n",
        "start_time = time.time()\n",
        "classifier.compile(optimizer='adam',loss='binary_crossentropy', metrics=['accuracy'] )\n",
        "classifier.fit(X_train, y_train, validation_split= 0.2, epochs=50, batch_size=50, callbacks=[csv_logger])\n",
        "end_time = time.time()"
      ],
      "metadata": {
        "colab": {
          "base_uri": "https://localhost:8080/"
        },
        "id": "mEap4woPB81g",
        "outputId": "54c80568-8b90-4827-e31e-3eeb6a4390a4"
      },
      "execution_count": 30,
      "outputs": [
        {
          "output_type": "stream",
          "name": "stdout",
          "text": [
            "Epoch 1/50\n",
            "7268/7268 [==============================] - 20s 2ms/step - loss: 0.4696 - accuracy: 0.7849 - val_loss: 0.4126 - val_accuracy: 0.8137\n",
            "Epoch 2/50\n",
            "7268/7268 [==============================] - 12s 2ms/step - loss: 0.3446 - accuracy: 0.8436 - val_loss: 0.3026 - val_accuracy: 0.8616\n",
            "Epoch 3/50\n",
            "7268/7268 [==============================] - 11s 2ms/step - loss: 0.2886 - accuracy: 0.8672 - val_loss: 0.2773 - val_accuracy: 0.8725\n",
            "Epoch 4/50\n",
            "7268/7268 [==============================] - 11s 2ms/step - loss: 0.2736 - accuracy: 0.8735 - val_loss: 0.2720 - val_accuracy: 0.8742\n",
            "Epoch 5/50\n",
            "7268/7268 [==============================] - 12s 2ms/step - loss: 0.2669 - accuracy: 0.8765 - val_loss: 0.2648 - val_accuracy: 0.8773\n",
            "Epoch 6/50\n",
            "7268/7268 [==============================] - 13s 2ms/step - loss: 0.2636 - accuracy: 0.8780 - val_loss: 0.2612 - val_accuracy: 0.8801\n",
            "Epoch 7/50\n",
            "7268/7268 [==============================] - 12s 2ms/step - loss: 0.2613 - accuracy: 0.8791 - val_loss: 0.2565 - val_accuracy: 0.8816\n",
            "Epoch 8/50\n",
            "7268/7268 [==============================] - 18s 2ms/step - loss: 0.2601 - accuracy: 0.8793 - val_loss: 0.2571 - val_accuracy: 0.8801\n",
            "Epoch 9/50\n",
            "7268/7268 [==============================] - 11s 2ms/step - loss: 0.2587 - accuracy: 0.8798 - val_loss: 0.2574 - val_accuracy: 0.8811\n",
            "Epoch 10/50\n",
            "7268/7268 [==============================] - 12s 2ms/step - loss: 0.2575 - accuracy: 0.8808 - val_loss: 0.2577 - val_accuracy: 0.8804\n",
            "Epoch 11/50\n",
            "7268/7268 [==============================] - 12s 2ms/step - loss: 0.2571 - accuracy: 0.8811 - val_loss: 0.2630 - val_accuracy: 0.8781\n",
            "Epoch 12/50\n",
            "7268/7268 [==============================] - 12s 2ms/step - loss: 0.2564 - accuracy: 0.8808 - val_loss: 0.2697 - val_accuracy: 0.8747\n",
            "Epoch 13/50\n",
            "7268/7268 [==============================] - 11s 2ms/step - loss: 0.2566 - accuracy: 0.8810 - val_loss: 0.2531 - val_accuracy: 0.8825\n",
            "Epoch 14/50\n",
            "7268/7268 [==============================] - 12s 2ms/step - loss: 0.2558 - accuracy: 0.8812 - val_loss: 0.2525 - val_accuracy: 0.8826\n",
            "Epoch 15/50\n",
            "7268/7268 [==============================] - 12s 2ms/step - loss: 0.2556 - accuracy: 0.8812 - val_loss: 0.2599 - val_accuracy: 0.8771\n",
            "Epoch 16/50\n",
            "7268/7268 [==============================] - 12s 2ms/step - loss: 0.2553 - accuracy: 0.8819 - val_loss: 0.2519 - val_accuracy: 0.8829\n",
            "Epoch 17/50\n",
            "7268/7268 [==============================] - 13s 2ms/step - loss: 0.2551 - accuracy: 0.8818 - val_loss: 0.2592 - val_accuracy: 0.8809\n",
            "Epoch 18/50\n",
            "7268/7268 [==============================] - 13s 2ms/step - loss: 0.2547 - accuracy: 0.8818 - val_loss: 0.2516 - val_accuracy: 0.8828\n",
            "Epoch 19/50\n",
            "7268/7268 [==============================] - 12s 2ms/step - loss: 0.2546 - accuracy: 0.8819 - val_loss: 0.2535 - val_accuracy: 0.8819\n",
            "Epoch 20/50\n",
            "7268/7268 [==============================] - 12s 2ms/step - loss: 0.2543 - accuracy: 0.8819 - val_loss: 0.2533 - val_accuracy: 0.8822\n",
            "Epoch 21/50\n",
            "7268/7268 [==============================] - 11s 2ms/step - loss: 0.2538 - accuracy: 0.8822 - val_loss: 0.2516 - val_accuracy: 0.8830\n",
            "Epoch 22/50\n",
            "7268/7268 [==============================] - 12s 2ms/step - loss: 0.2540 - accuracy: 0.8822 - val_loss: 0.2549 - val_accuracy: 0.8809\n",
            "Epoch 23/50\n",
            "7268/7268 [==============================] - 11s 2ms/step - loss: 0.2537 - accuracy: 0.8822 - val_loss: 0.2563 - val_accuracy: 0.8800\n",
            "Epoch 24/50\n",
            "7268/7268 [==============================] - 12s 2ms/step - loss: 0.2539 - accuracy: 0.8818 - val_loss: 0.2540 - val_accuracy: 0.8822\n",
            "Epoch 25/50\n",
            "7268/7268 [==============================] - 11s 2ms/step - loss: 0.2535 - accuracy: 0.8825 - val_loss: 0.2497 - val_accuracy: 0.8843\n",
            "Epoch 26/50\n",
            "7268/7268 [==============================] - 11s 2ms/step - loss: 0.2533 - accuracy: 0.8826 - val_loss: 0.2512 - val_accuracy: 0.8832\n",
            "Epoch 27/50\n",
            "7268/7268 [==============================] - 10s 1ms/step - loss: 0.2527 - accuracy: 0.8825 - val_loss: 0.2512 - val_accuracy: 0.8840\n",
            "Epoch 28/50\n",
            "7268/7268 [==============================] - 12s 2ms/step - loss: 0.2524 - accuracy: 0.8829 - val_loss: 0.2626 - val_accuracy: 0.8786\n",
            "Epoch 29/50\n",
            "7268/7268 [==============================] - 12s 2ms/step - loss: 0.2527 - accuracy: 0.8828 - val_loss: 0.2511 - val_accuracy: 0.8827\n",
            "Epoch 30/50\n",
            "7268/7268 [==============================] - 11s 1ms/step - loss: 0.2527 - accuracy: 0.8828 - val_loss: 0.2518 - val_accuracy: 0.8832\n",
            "Epoch 31/50\n",
            "7268/7268 [==============================] - 11s 2ms/step - loss: 0.2526 - accuracy: 0.8829 - val_loss: 0.2501 - val_accuracy: 0.8843\n",
            "Epoch 32/50\n",
            "7268/7268 [==============================] - 12s 2ms/step - loss: 0.2522 - accuracy: 0.8831 - val_loss: 0.2504 - val_accuracy: 0.8833\n",
            "Epoch 33/50\n",
            "7268/7268 [==============================] - 12s 2ms/step - loss: 0.2520 - accuracy: 0.8833 - val_loss: 0.2521 - val_accuracy: 0.8832\n",
            "Epoch 34/50\n",
            "7268/7268 [==============================] - 11s 2ms/step - loss: 0.2524 - accuracy: 0.8831 - val_loss: 0.2598 - val_accuracy: 0.8807\n",
            "Epoch 35/50\n",
            "7268/7268 [==============================] - 11s 2ms/step - loss: 0.2519 - accuracy: 0.8830 - val_loss: 0.2506 - val_accuracy: 0.8837\n",
            "Epoch 36/50\n",
            "7268/7268 [==============================] - 10s 1ms/step - loss: 0.2518 - accuracy: 0.8833 - val_loss: 0.2628 - val_accuracy: 0.8743\n",
            "Epoch 37/50\n",
            "7268/7268 [==============================] - 12s 2ms/step - loss: 0.2514 - accuracy: 0.8831 - val_loss: 0.2518 - val_accuracy: 0.8825\n",
            "Epoch 38/50\n",
            "7268/7268 [==============================] - 12s 2ms/step - loss: 0.2513 - accuracy: 0.8837 - val_loss: 0.2483 - val_accuracy: 0.8851\n",
            "Epoch 39/50\n",
            "7268/7268 [==============================] - 11s 1ms/step - loss: 0.2516 - accuracy: 0.8837 - val_loss: 0.2483 - val_accuracy: 0.8854\n",
            "Epoch 40/50\n",
            "7268/7268 [==============================] - 11s 1ms/step - loss: 0.2513 - accuracy: 0.8833 - val_loss: 0.2590 - val_accuracy: 0.8807\n",
            "Epoch 41/50\n",
            "7268/7268 [==============================] - 12s 2ms/step - loss: 0.2512 - accuracy: 0.8833 - val_loss: 0.2526 - val_accuracy: 0.8831\n",
            "Epoch 42/50\n",
            "7268/7268 [==============================] - 11s 1ms/step - loss: 0.2512 - accuracy: 0.8834 - val_loss: 0.2503 - val_accuracy: 0.8823\n",
            "Epoch 43/50\n",
            "7268/7268 [==============================] - 10s 1ms/step - loss: 0.2510 - accuracy: 0.8835 - val_loss: 0.2468 - val_accuracy: 0.8854\n",
            "Epoch 44/50\n",
            "7268/7268 [==============================] - 12s 2ms/step - loss: 0.2512 - accuracy: 0.8838 - val_loss: 0.2505 - val_accuracy: 0.8837\n",
            "Epoch 45/50\n",
            "7268/7268 [==============================] - 11s 1ms/step - loss: 0.2509 - accuracy: 0.8836 - val_loss: 0.2518 - val_accuracy: 0.8825\n",
            "Epoch 46/50\n",
            "7268/7268 [==============================] - 12s 2ms/step - loss: 0.2507 - accuracy: 0.8840 - val_loss: 0.2516 - val_accuracy: 0.8835\n",
            "Epoch 47/50\n",
            "7268/7268 [==============================] - 11s 1ms/step - loss: 0.2506 - accuracy: 0.8836 - val_loss: 0.2490 - val_accuracy: 0.8840\n",
            "Epoch 48/50\n",
            "7268/7268 [==============================] - 12s 2ms/step - loss: 0.2500 - accuracy: 0.8843 - val_loss: 0.2487 - val_accuracy: 0.8839\n",
            "Epoch 49/50\n",
            "7268/7268 [==============================] - 13s 2ms/step - loss: 0.2503 - accuracy: 0.8850 - val_loss: 0.2456 - val_accuracy: 0.8860\n",
            "Epoch 50/50\n",
            "7268/7268 [==============================] - 12s 2ms/step - loss: 0.2496 - accuracy: 0.8845 - val_loss: 0.2471 - val_accuracy: 0.8860\n"
          ]
        }
      ]
    },
    {
      "cell_type": "code",
      "source": [
        "y_rec = classifier.predict(X_test)"
      ],
      "metadata": {
        "colab": {
          "base_uri": "https://localhost:8080/"
        },
        "id": "Rfa7J4fwDA4i",
        "outputId": "31b4a1d6-bebe-4bac-e78d-2acd3dcad7f3"
      },
      "execution_count": 32,
      "outputs": [
        {
          "output_type": "stream",
          "name": "stdout",
          "text": [
            "3549/3549 [==============================] - 3s 905us/step\n"
          ]
        }
      ]
    },
    {
      "cell_type": "code",
      "source": [
        "y_pred = np.where(y_rec>=0.5,1,0)"
      ],
      "metadata": {
        "id": "XA0e3MpFPi7-"
      },
      "execution_count": 33,
      "outputs": []
    },
    {
      "cell_type": "code",
      "source": [
        "from sklearn.metrics import accuracy_score\n",
        "results = accuracy_score(y_test,y_pred)"
      ],
      "metadata": {
        "id": "AaPQPdSwPmXU"
      },
      "execution_count": 34,
      "outputs": []
    },
    {
      "cell_type": "code",
      "source": [
        "print(\"Evaluation on test data : \")\n",
        "accuracy = results*100\n",
        "print(\"Test Accuracy : %.2f\" % accuracy,'%')"
      ],
      "metadata": {
        "colab": {
          "base_uri": "https://localhost:8080/"
        },
        "id": "FfWsCG0CYkGO",
        "outputId": "f488e0ad-34a3-49a6-d7ba-ca974a390a7b"
      },
      "execution_count": 35,
      "outputs": [
        {
          "output_type": "stream",
          "name": "stdout",
          "text": [
            "Evaluation on test data : \n",
            "Test Accuracy : 88.61 %\n"
          ]
        }
      ]
    },
    {
      "cell_type": "markdown",
      "source": [
        "#### Confusion Matrix"
      ],
      "metadata": {
        "id": "ZMKU4hktY3zn"
      }
    },
    {
      "cell_type": "code",
      "source": [
        "import matplotlib.pyplot as plt\n",
        "import seaborn as sns\n",
        "import warnings\n",
        "warnings.filterwarnings('ignore')"
      ],
      "metadata": {
        "id": "EVT3ohayRgHA"
      },
      "execution_count": 36,
      "outputs": []
    },
    {
      "cell_type": "code",
      "source": [
        "from sklearn import metrics\n",
        "from sklearn.metrics import accuracy_score, classification_report, confusion_matrix"
      ],
      "metadata": {
        "id": "gRvB1kEgZD65"
      },
      "execution_count": 37,
      "outputs": []
    },
    {
      "cell_type": "code",
      "source": [
        "cm = metrics.confusion_matrix(y_test, y_pred)\n",
        "print(classification_report(y_test, y_pred))"
      ],
      "metadata": {
        "colab": {
          "base_uri": "https://localhost:8080/"
        },
        "id": "SO5TBbQdRTXe",
        "outputId": "e5f0c989-dc75-452f-9d46-18c17715a26a"
      },
      "execution_count": 38,
      "outputs": [
        {
          "output_type": "stream",
          "name": "stdout",
          "text": [
            "              precision    recall  f1-score   support\n",
            "\n",
            "         0.0       0.86      0.92      0.89     56777\n",
            "         1.0       0.91      0.86      0.88     56777\n",
            "\n",
            "    accuracy                           0.89    113554\n",
            "   macro avg       0.89      0.89      0.89    113554\n",
            "weighted avg       0.89      0.89      0.89    113554\n",
            "\n"
          ]
        }
      ]
    },
    {
      "cell_type": "code",
      "source": [
        "sns.heatmap(cm, annot=True, fmt='d', cmap='Blues')\n",
        "plt.xlabel('Predicted Labels')\n",
        "plt.ylabel('Actual Labels')\n",
        "plt.title('Confusion Matrix')\n",
        "\n",
        "plt.savefig(\"Confusion Matrix.png\", dpi=1000, format='png')\n",
        "plt.show()"
      ],
      "metadata": {
        "colab": {
          "base_uri": "https://localhost:8080/",
          "height": 472
        },
        "id": "iKoy5YEfRWST",
        "outputId": "ac7a05dd-9e26-43bb-c257-29e0a0cf3433"
      },
      "execution_count": 39,
      "outputs": [
        {
          "output_type": "display_data",
          "data": {
            "text/plain": [
              "<Figure size 640x480 with 2 Axes>"
            ],
            "image/png": "[encoded data removed]"
          },
          "metadata": {}
        }
      ]
    }
  ]
}